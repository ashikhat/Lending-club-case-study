{
 "cells": [
  {
   "cell_type": "code",
   "execution_count": 80,
   "id": "aaf18b4f",
   "metadata": {
    "id": "aaf18b4f"
   },
   "outputs": [],
   "source": [
    "#importing required libraries\n",
    "import numpy as np\n",
    "import pandas as pd\n",
    "import matplotlib.pyplot as plt\n",
    "import seaborn as sns"
   ]
  },
  {
   "cell_type": "code",
   "execution_count": 2,
   "id": "0b39ac3f",
   "metadata": {
    "colab": {
     "base_uri": "https://localhost:8080/"
    },
    "id": "0b39ac3f",
    "outputId": "24b578a3-f3fc-45d4-9781-65a068b286be"
   },
   "outputs": [
    {
     "name": "stderr",
     "output_type": "stream",
     "text": [
      "C:\\Users\\ashis\\AppData\\Local\\Temp\\ipykernel_31984\\4152575677.py:2: DtypeWarning: Columns (47) have mixed types. Specify dtype option on import or set low_memory=False.\n",
      "  LoanDF=pd.read_csv(\"loan.csv\")\n"
     ]
    }
   ],
   "source": [
    "#reading a data file\n",
    "LoanDF=pd.read_csv(\"loan.csv\")"
   ]
  },
  {
   "cell_type": "code",
   "execution_count": 3,
   "id": "b59f6d47",
   "metadata": {
    "colab": {
     "base_uri": "https://localhost:8080/",
     "height": 386
    },
    "id": "b59f6d47",
    "outputId": "29817a66-d1c9-4913-ed74-e5eafd8c8ec9",
    "scrolled": true
   },
   "outputs": [
    {
     "data": {
      "text/html": [
       "<div>\n",
       "<style scoped>\n",
       "    .dataframe tbody tr th:only-of-type {\n",
       "        vertical-align: middle;\n",
       "    }\n",
       "\n",
       "    .dataframe tbody tr th {\n",
       "        vertical-align: top;\n",
       "    }\n",
       "\n",
       "    .dataframe thead th {\n",
       "        text-align: right;\n",
       "    }\n",
       "</style>\n",
       "<table border=\"1\" class=\"dataframe\">\n",
       "  <thead>\n",
       "    <tr style=\"text-align: right;\">\n",
       "      <th></th>\n",
       "      <th>id</th>\n",
       "      <th>member_id</th>\n",
       "      <th>loan_amnt</th>\n",
       "      <th>funded_amnt</th>\n",
       "      <th>funded_amnt_inv</th>\n",
       "      <th>term</th>\n",
       "      <th>int_rate</th>\n",
       "      <th>installment</th>\n",
       "      <th>grade</th>\n",
       "      <th>sub_grade</th>\n",
       "      <th>...</th>\n",
       "      <th>num_tl_90g_dpd_24m</th>\n",
       "      <th>num_tl_op_past_12m</th>\n",
       "      <th>pct_tl_nvr_dlq</th>\n",
       "      <th>percent_bc_gt_75</th>\n",
       "      <th>pub_rec_bankruptcies</th>\n",
       "      <th>tax_liens</th>\n",
       "      <th>tot_hi_cred_lim</th>\n",
       "      <th>total_bal_ex_mort</th>\n",
       "      <th>total_bc_limit</th>\n",
       "      <th>total_il_high_credit_limit</th>\n",
       "    </tr>\n",
       "  </thead>\n",
       "  <tbody>\n",
       "    <tr>\n",
       "      <th>0</th>\n",
       "      <td>1077501</td>\n",
       "      <td>1296599</td>\n",
       "      <td>5000</td>\n",
       "      <td>5000</td>\n",
       "      <td>4975.0</td>\n",
       "      <td>36 months</td>\n",
       "      <td>10.65%</td>\n",
       "      <td>162.87</td>\n",
       "      <td>B</td>\n",
       "      <td>B2</td>\n",
       "      <td>...</td>\n",
       "      <td>NaN</td>\n",
       "      <td>NaN</td>\n",
       "      <td>NaN</td>\n",
       "      <td>NaN</td>\n",
       "      <td>0.0</td>\n",
       "      <td>0.0</td>\n",
       "      <td>NaN</td>\n",
       "      <td>NaN</td>\n",
       "      <td>NaN</td>\n",
       "      <td>NaN</td>\n",
       "    </tr>\n",
       "    <tr>\n",
       "      <th>1</th>\n",
       "      <td>1077430</td>\n",
       "      <td>1314167</td>\n",
       "      <td>2500</td>\n",
       "      <td>2500</td>\n",
       "      <td>2500.0</td>\n",
       "      <td>60 months</td>\n",
       "      <td>15.27%</td>\n",
       "      <td>59.83</td>\n",
       "      <td>C</td>\n",
       "      <td>C4</td>\n",
       "      <td>...</td>\n",
       "      <td>NaN</td>\n",
       "      <td>NaN</td>\n",
       "      <td>NaN</td>\n",
       "      <td>NaN</td>\n",
       "      <td>0.0</td>\n",
       "      <td>0.0</td>\n",
       "      <td>NaN</td>\n",
       "      <td>NaN</td>\n",
       "      <td>NaN</td>\n",
       "      <td>NaN</td>\n",
       "    </tr>\n",
       "    <tr>\n",
       "      <th>2</th>\n",
       "      <td>1077175</td>\n",
       "      <td>1313524</td>\n",
       "      <td>2400</td>\n",
       "      <td>2400</td>\n",
       "      <td>2400.0</td>\n",
       "      <td>36 months</td>\n",
       "      <td>15.96%</td>\n",
       "      <td>84.33</td>\n",
       "      <td>C</td>\n",
       "      <td>C5</td>\n",
       "      <td>...</td>\n",
       "      <td>NaN</td>\n",
       "      <td>NaN</td>\n",
       "      <td>NaN</td>\n",
       "      <td>NaN</td>\n",
       "      <td>0.0</td>\n",
       "      <td>0.0</td>\n",
       "      <td>NaN</td>\n",
       "      <td>NaN</td>\n",
       "      <td>NaN</td>\n",
       "      <td>NaN</td>\n",
       "    </tr>\n",
       "    <tr>\n",
       "      <th>3</th>\n",
       "      <td>1076863</td>\n",
       "      <td>1277178</td>\n",
       "      <td>10000</td>\n",
       "      <td>10000</td>\n",
       "      <td>10000.0</td>\n",
       "      <td>36 months</td>\n",
       "      <td>13.49%</td>\n",
       "      <td>339.31</td>\n",
       "      <td>C</td>\n",
       "      <td>C1</td>\n",
       "      <td>...</td>\n",
       "      <td>NaN</td>\n",
       "      <td>NaN</td>\n",
       "      <td>NaN</td>\n",
       "      <td>NaN</td>\n",
       "      <td>0.0</td>\n",
       "      <td>0.0</td>\n",
       "      <td>NaN</td>\n",
       "      <td>NaN</td>\n",
       "      <td>NaN</td>\n",
       "      <td>NaN</td>\n",
       "    </tr>\n",
       "    <tr>\n",
       "      <th>4</th>\n",
       "      <td>1075358</td>\n",
       "      <td>1311748</td>\n",
       "      <td>3000</td>\n",
       "      <td>3000</td>\n",
       "      <td>3000.0</td>\n",
       "      <td>60 months</td>\n",
       "      <td>12.69%</td>\n",
       "      <td>67.79</td>\n",
       "      <td>B</td>\n",
       "      <td>B5</td>\n",
       "      <td>...</td>\n",
       "      <td>NaN</td>\n",
       "      <td>NaN</td>\n",
       "      <td>NaN</td>\n",
       "      <td>NaN</td>\n",
       "      <td>0.0</td>\n",
       "      <td>0.0</td>\n",
       "      <td>NaN</td>\n",
       "      <td>NaN</td>\n",
       "      <td>NaN</td>\n",
       "      <td>NaN</td>\n",
       "    </tr>\n",
       "  </tbody>\n",
       "</table>\n",
       "<p>5 rows × 111 columns</p>\n",
       "</div>"
      ],
      "text/plain": [
       "        id  member_id  loan_amnt  funded_amnt  funded_amnt_inv        term  \\\n",
       "0  1077501    1296599       5000         5000           4975.0   36 months   \n",
       "1  1077430    1314167       2500         2500           2500.0   60 months   \n",
       "2  1077175    1313524       2400         2400           2400.0   36 months   \n",
       "3  1076863    1277178      10000        10000          10000.0   36 months   \n",
       "4  1075358    1311748       3000         3000           3000.0   60 months   \n",
       "\n",
       "  int_rate  installment grade sub_grade  ... num_tl_90g_dpd_24m  \\\n",
       "0   10.65%       162.87     B        B2  ...                NaN   \n",
       "1   15.27%        59.83     C        C4  ...                NaN   \n",
       "2   15.96%        84.33     C        C5  ...                NaN   \n",
       "3   13.49%       339.31     C        C1  ...                NaN   \n",
       "4   12.69%        67.79     B        B5  ...                NaN   \n",
       "\n",
       "  num_tl_op_past_12m pct_tl_nvr_dlq  percent_bc_gt_75 pub_rec_bankruptcies  \\\n",
       "0                NaN            NaN               NaN                  0.0   \n",
       "1                NaN            NaN               NaN                  0.0   \n",
       "2                NaN            NaN               NaN                  0.0   \n",
       "3                NaN            NaN               NaN                  0.0   \n",
       "4                NaN            NaN               NaN                  0.0   \n",
       "\n",
       "  tax_liens tot_hi_cred_lim total_bal_ex_mort total_bc_limit  \\\n",
       "0       0.0             NaN               NaN            NaN   \n",
       "1       0.0             NaN               NaN            NaN   \n",
       "2       0.0             NaN               NaN            NaN   \n",
       "3       0.0             NaN               NaN            NaN   \n",
       "4       0.0             NaN               NaN            NaN   \n",
       "\n",
       "  total_il_high_credit_limit  \n",
       "0                        NaN  \n",
       "1                        NaN  \n",
       "2                        NaN  \n",
       "3                        NaN  \n",
       "4                        NaN  \n",
       "\n",
       "[5 rows x 111 columns]"
      ]
     },
     "execution_count": 3,
     "metadata": {},
     "output_type": "execute_result"
    }
   ],
   "source": [
    "LoanDF.head()"
   ]
  },
  {
   "cell_type": "code",
   "execution_count": 4,
   "id": "9d92cdd9",
   "metadata": {
    "colab": {
     "base_uri": "https://localhost:8080/"
    },
    "id": "9d92cdd9",
    "outputId": "bf485aeb-9e65-4adc-8c43-fdcb303a81c7"
   },
   "outputs": [
    {
     "data": {
      "text/plain": [
       "(39717, 111)"
      ]
     },
     "execution_count": 4,
     "metadata": {},
     "output_type": "execute_result"
    }
   ],
   "source": [
    "LoanDF.shape"
   ]
  },
  {
   "cell_type": "code",
   "execution_count": 5,
   "id": "584ae02d",
   "metadata": {
    "colab": {
     "base_uri": "https://localhost:8080/"
    },
    "id": "584ae02d",
    "outputId": "ea01096a-ac96-4870-b6fb-4cd7d4b3a163"
   },
   "outputs": [
    {
     "data": {
      "text/plain": [
       "Index(['id', 'member_id', 'loan_amnt', 'funded_amnt', 'funded_amnt_inv',\n",
       "       'term', 'int_rate', 'installment', 'grade', 'sub_grade',\n",
       "       ...\n",
       "       'num_tl_90g_dpd_24m', 'num_tl_op_past_12m', 'pct_tl_nvr_dlq',\n",
       "       'percent_bc_gt_75', 'pub_rec_bankruptcies', 'tax_liens',\n",
       "       'tot_hi_cred_lim', 'total_bal_ex_mort', 'total_bc_limit',\n",
       "       'total_il_high_credit_limit'],\n",
       "      dtype='object', length=111)"
      ]
     },
     "execution_count": 5,
     "metadata": {},
     "output_type": "execute_result"
    }
   ],
   "source": [
    "LoanDF.columns"
   ]
  },
  {
   "cell_type": "markdown",
   "id": "35f5f794",
   "metadata": {
    "id": "35f5f794"
   },
   "source": [
    "## data cleaning"
   ]
  },
  {
   "cell_type": "code",
   "execution_count": 6,
   "id": "77042b71",
   "metadata": {
    "id": "77042b71",
    "scrolled": true
   },
   "outputs": [],
   "source": [
    "#counting null values in each column\n",
    "nullcount=LoanDF.isnull().sum()"
   ]
  },
  {
   "cell_type": "code",
   "execution_count": 7,
   "id": "96f585b9",
   "metadata": {
    "colab": {
     "base_uri": "https://localhost:8080/"
    },
    "id": "96f585b9",
    "outputId": "07c5d186-6d0e-43a1-e1eb-fa3097ca8b1d"
   },
   "outputs": [
    {
     "data": {
      "text/plain": [
       "id                                0\n",
       "member_id                         0\n",
       "loan_amnt                         0\n",
       "funded_amnt                       0\n",
       "funded_amnt_inv                   0\n",
       "                              ...  \n",
       "tax_liens                        39\n",
       "tot_hi_cred_lim               39717\n",
       "total_bal_ex_mort             39717\n",
       "total_bc_limit                39717\n",
       "total_il_high_credit_limit    39717\n",
       "Length: 111, dtype: int64"
      ]
     },
     "execution_count": 7,
     "metadata": {},
     "output_type": "execute_result"
    }
   ],
   "source": [
    "#getting all the columns which has all the values as null\n",
    "nullcount"
   ]
  },
  {
   "cell_type": "code",
   "execution_count": 8,
   "id": "65c11d61",
   "metadata": {
    "id": "65c11d61"
   },
   "outputs": [],
   "source": [
    "#filtering columns withall null values in it\n",
    "all_null=nullcount[nullcount==39717]"
   ]
  },
  {
   "cell_type": "code",
   "execution_count": 9,
   "id": "7183ef4b",
   "metadata": {
    "colab": {
     "base_uri": "https://localhost:8080/"
    },
    "id": "7183ef4b",
    "outputId": "9e4c3612-3017-49cf-b03f-849d5ae7012a"
   },
   "outputs": [
    {
     "data": {
      "text/plain": [
       "mths_since_last_major_derog       39717\n",
       "annual_inc_joint                  39717\n",
       "dti_joint                         39717\n",
       "verification_status_joint         39717\n",
       "tot_coll_amt                      39717\n",
       "tot_cur_bal                       39717\n",
       "open_acc_6m                       39717\n",
       "open_il_6m                        39717\n",
       "open_il_12m                       39717\n",
       "open_il_24m                       39717\n",
       "mths_since_rcnt_il                39717\n",
       "total_bal_il                      39717\n",
       "il_util                           39717\n",
       "open_rv_12m                       39717\n",
       "open_rv_24m                       39717\n",
       "max_bal_bc                        39717\n",
       "all_util                          39717\n",
       "total_rev_hi_lim                  39717\n",
       "inq_fi                            39717\n",
       "total_cu_tl                       39717\n",
       "inq_last_12m                      39717\n",
       "acc_open_past_24mths              39717\n",
       "avg_cur_bal                       39717\n",
       "bc_open_to_buy                    39717\n",
       "bc_util                           39717\n",
       "mo_sin_old_il_acct                39717\n",
       "mo_sin_old_rev_tl_op              39717\n",
       "mo_sin_rcnt_rev_tl_op             39717\n",
       "mo_sin_rcnt_tl                    39717\n",
       "mort_acc                          39717\n",
       "mths_since_recent_bc              39717\n",
       "mths_since_recent_bc_dlq          39717\n",
       "mths_since_recent_inq             39717\n",
       "mths_since_recent_revol_delinq    39717\n",
       "num_accts_ever_120_pd             39717\n",
       "num_actv_bc_tl                    39717\n",
       "num_actv_rev_tl                   39717\n",
       "num_bc_sats                       39717\n",
       "num_bc_tl                         39717\n",
       "num_il_tl                         39717\n",
       "num_op_rev_tl                     39717\n",
       "num_rev_accts                     39717\n",
       "num_rev_tl_bal_gt_0               39717\n",
       "num_sats                          39717\n",
       "num_tl_120dpd_2m                  39717\n",
       "num_tl_30dpd                      39717\n",
       "num_tl_90g_dpd_24m                39717\n",
       "num_tl_op_past_12m                39717\n",
       "pct_tl_nvr_dlq                    39717\n",
       "percent_bc_gt_75                  39717\n",
       "tot_hi_cred_lim                   39717\n",
       "total_bal_ex_mort                 39717\n",
       "total_bc_limit                    39717\n",
       "total_il_high_credit_limit        39717\n",
       "dtype: int64"
      ]
     },
     "execution_count": 9,
     "metadata": {},
     "output_type": "execute_result"
    }
   ],
   "source": [
    "#displaying the columns with all null\n",
    "all_null"
   ]
  },
  {
   "cell_type": "code",
   "execution_count": 10,
   "id": "fc9b2944",
   "metadata": {
    "id": "fc9b2944"
   },
   "outputs": [],
   "source": [
    "##creating array of all null columns to drop\n",
    "all_null_columns=all_null.index"
   ]
  },
  {
   "cell_type": "code",
   "execution_count": 11,
   "id": "1ea4aa6a",
   "metadata": {
    "id": "1ea4aa6a"
   },
   "outputs": [],
   "source": [
    "##dropping the null columns\n",
    "LoanDF.drop(all_null_columns,axis=1,inplace=True)"
   ]
  },
  {
   "cell_type": "code",
   "execution_count": 12,
   "id": "17092952",
   "metadata": {
    "colab": {
     "base_uri": "https://localhost:8080/"
    },
    "id": "17092952",
    "outputId": "51d096e8-4de7-4123-ba4a-c829f6312096"
   },
   "outputs": [
    {
     "data": {
      "text/plain": [
       "(39717, 57)"
      ]
     },
     "execution_count": 12,
     "metadata": {},
     "output_type": "execute_result"
    }
   ],
   "source": [
    "#checking the shape of new data\n",
    "LoanDF.shape"
   ]
  },
  {
   "cell_type": "code",
   "execution_count": 13,
   "id": "97c02b0d",
   "metadata": {
    "colab": {
     "base_uri": "https://localhost:8080/",
     "height": 386
    },
    "id": "97c02b0d",
    "outputId": "df4502cb-a247-4773-f5c9-cd7458e4c01a"
   },
   "outputs": [
    {
     "data": {
      "text/html": [
       "<div>\n",
       "<style scoped>\n",
       "    .dataframe tbody tr th:only-of-type {\n",
       "        vertical-align: middle;\n",
       "    }\n",
       "\n",
       "    .dataframe tbody tr th {\n",
       "        vertical-align: top;\n",
       "    }\n",
       "\n",
       "    .dataframe thead th {\n",
       "        text-align: right;\n",
       "    }\n",
       "</style>\n",
       "<table border=\"1\" class=\"dataframe\">\n",
       "  <thead>\n",
       "    <tr style=\"text-align: right;\">\n",
       "      <th></th>\n",
       "      <th>id</th>\n",
       "      <th>member_id</th>\n",
       "      <th>loan_amnt</th>\n",
       "      <th>funded_amnt</th>\n",
       "      <th>funded_amnt_inv</th>\n",
       "      <th>term</th>\n",
       "      <th>int_rate</th>\n",
       "      <th>installment</th>\n",
       "      <th>grade</th>\n",
       "      <th>sub_grade</th>\n",
       "      <th>...</th>\n",
       "      <th>next_pymnt_d</th>\n",
       "      <th>last_credit_pull_d</th>\n",
       "      <th>collections_12_mths_ex_med</th>\n",
       "      <th>policy_code</th>\n",
       "      <th>application_type</th>\n",
       "      <th>acc_now_delinq</th>\n",
       "      <th>chargeoff_within_12_mths</th>\n",
       "      <th>delinq_amnt</th>\n",
       "      <th>pub_rec_bankruptcies</th>\n",
       "      <th>tax_liens</th>\n",
       "    </tr>\n",
       "  </thead>\n",
       "  <tbody>\n",
       "    <tr>\n",
       "      <th>0</th>\n",
       "      <td>1077501</td>\n",
       "      <td>1296599</td>\n",
       "      <td>5000</td>\n",
       "      <td>5000</td>\n",
       "      <td>4975.0</td>\n",
       "      <td>36 months</td>\n",
       "      <td>10.65%</td>\n",
       "      <td>162.87</td>\n",
       "      <td>B</td>\n",
       "      <td>B2</td>\n",
       "      <td>...</td>\n",
       "      <td>NaN</td>\n",
       "      <td>May-16</td>\n",
       "      <td>0.0</td>\n",
       "      <td>1</td>\n",
       "      <td>INDIVIDUAL</td>\n",
       "      <td>0</td>\n",
       "      <td>0.0</td>\n",
       "      <td>0</td>\n",
       "      <td>0.0</td>\n",
       "      <td>0.0</td>\n",
       "    </tr>\n",
       "    <tr>\n",
       "      <th>1</th>\n",
       "      <td>1077430</td>\n",
       "      <td>1314167</td>\n",
       "      <td>2500</td>\n",
       "      <td>2500</td>\n",
       "      <td>2500.0</td>\n",
       "      <td>60 months</td>\n",
       "      <td>15.27%</td>\n",
       "      <td>59.83</td>\n",
       "      <td>C</td>\n",
       "      <td>C4</td>\n",
       "      <td>...</td>\n",
       "      <td>NaN</td>\n",
       "      <td>Sep-13</td>\n",
       "      <td>0.0</td>\n",
       "      <td>1</td>\n",
       "      <td>INDIVIDUAL</td>\n",
       "      <td>0</td>\n",
       "      <td>0.0</td>\n",
       "      <td>0</td>\n",
       "      <td>0.0</td>\n",
       "      <td>0.0</td>\n",
       "    </tr>\n",
       "    <tr>\n",
       "      <th>2</th>\n",
       "      <td>1077175</td>\n",
       "      <td>1313524</td>\n",
       "      <td>2400</td>\n",
       "      <td>2400</td>\n",
       "      <td>2400.0</td>\n",
       "      <td>36 months</td>\n",
       "      <td>15.96%</td>\n",
       "      <td>84.33</td>\n",
       "      <td>C</td>\n",
       "      <td>C5</td>\n",
       "      <td>...</td>\n",
       "      <td>NaN</td>\n",
       "      <td>May-16</td>\n",
       "      <td>0.0</td>\n",
       "      <td>1</td>\n",
       "      <td>INDIVIDUAL</td>\n",
       "      <td>0</td>\n",
       "      <td>0.0</td>\n",
       "      <td>0</td>\n",
       "      <td>0.0</td>\n",
       "      <td>0.0</td>\n",
       "    </tr>\n",
       "    <tr>\n",
       "      <th>3</th>\n",
       "      <td>1076863</td>\n",
       "      <td>1277178</td>\n",
       "      <td>10000</td>\n",
       "      <td>10000</td>\n",
       "      <td>10000.0</td>\n",
       "      <td>36 months</td>\n",
       "      <td>13.49%</td>\n",
       "      <td>339.31</td>\n",
       "      <td>C</td>\n",
       "      <td>C1</td>\n",
       "      <td>...</td>\n",
       "      <td>NaN</td>\n",
       "      <td>Apr-16</td>\n",
       "      <td>0.0</td>\n",
       "      <td>1</td>\n",
       "      <td>INDIVIDUAL</td>\n",
       "      <td>0</td>\n",
       "      <td>0.0</td>\n",
       "      <td>0</td>\n",
       "      <td>0.0</td>\n",
       "      <td>0.0</td>\n",
       "    </tr>\n",
       "    <tr>\n",
       "      <th>4</th>\n",
       "      <td>1075358</td>\n",
       "      <td>1311748</td>\n",
       "      <td>3000</td>\n",
       "      <td>3000</td>\n",
       "      <td>3000.0</td>\n",
       "      <td>60 months</td>\n",
       "      <td>12.69%</td>\n",
       "      <td>67.79</td>\n",
       "      <td>B</td>\n",
       "      <td>B5</td>\n",
       "      <td>...</td>\n",
       "      <td>Jun-16</td>\n",
       "      <td>May-16</td>\n",
       "      <td>0.0</td>\n",
       "      <td>1</td>\n",
       "      <td>INDIVIDUAL</td>\n",
       "      <td>0</td>\n",
       "      <td>0.0</td>\n",
       "      <td>0</td>\n",
       "      <td>0.0</td>\n",
       "      <td>0.0</td>\n",
       "    </tr>\n",
       "  </tbody>\n",
       "</table>\n",
       "<p>5 rows × 57 columns</p>\n",
       "</div>"
      ],
      "text/plain": [
       "        id  member_id  loan_amnt  funded_amnt  funded_amnt_inv        term  \\\n",
       "0  1077501    1296599       5000         5000           4975.0   36 months   \n",
       "1  1077430    1314167       2500         2500           2500.0   60 months   \n",
       "2  1077175    1313524       2400         2400           2400.0   36 months   \n",
       "3  1076863    1277178      10000        10000          10000.0   36 months   \n",
       "4  1075358    1311748       3000         3000           3000.0   60 months   \n",
       "\n",
       "  int_rate  installment grade sub_grade  ... next_pymnt_d last_credit_pull_d  \\\n",
       "0   10.65%       162.87     B        B2  ...          NaN             May-16   \n",
       "1   15.27%        59.83     C        C4  ...          NaN             Sep-13   \n",
       "2   15.96%        84.33     C        C5  ...          NaN             May-16   \n",
       "3   13.49%       339.31     C        C1  ...          NaN             Apr-16   \n",
       "4   12.69%        67.79     B        B5  ...       Jun-16             May-16   \n",
       "\n",
       "  collections_12_mths_ex_med  policy_code application_type acc_now_delinq  \\\n",
       "0                        0.0            1       INDIVIDUAL              0   \n",
       "1                        0.0            1       INDIVIDUAL              0   \n",
       "2                        0.0            1       INDIVIDUAL              0   \n",
       "3                        0.0            1       INDIVIDUAL              0   \n",
       "4                        0.0            1       INDIVIDUAL              0   \n",
       "\n",
       "  chargeoff_within_12_mths delinq_amnt pub_rec_bankruptcies tax_liens  \n",
       "0                      0.0           0                  0.0       0.0  \n",
       "1                      0.0           0                  0.0       0.0  \n",
       "2                      0.0           0                  0.0       0.0  \n",
       "3                      0.0           0                  0.0       0.0  \n",
       "4                      0.0           0                  0.0       0.0  \n",
       "\n",
       "[5 rows x 57 columns]"
      ]
     },
     "execution_count": 13,
     "metadata": {},
     "output_type": "execute_result"
    }
   ],
   "source": [
    "LoanDF.head()"
   ]
  },
  {
   "cell_type": "code",
   "execution_count": 14,
   "id": "dc3565da",
   "metadata": {
    "colab": {
     "base_uri": "https://localhost:8080/"
    },
    "id": "dc3565da",
    "outputId": "79fef7a6-038b-4a0f-bc28-ad1b93e8713f"
   },
   "outputs": [
    {
     "data": {
      "text/plain": [
       "id                                0\n",
       "member_id                         0\n",
       "loan_amnt                         0\n",
       "funded_amnt                       0\n",
       "funded_amnt_inv                   0\n",
       "term                              0\n",
       "int_rate                          0\n",
       "installment                       0\n",
       "grade                             0\n",
       "sub_grade                         0\n",
       "emp_title                      2459\n",
       "emp_length                     1075\n",
       "home_ownership                    0\n",
       "annual_inc                        0\n",
       "verification_status               0\n",
       "issue_d                           0\n",
       "loan_status                       0\n",
       "pymnt_plan                        0\n",
       "url                               0\n",
       "desc                          12940\n",
       "purpose                           0\n",
       "title                            11\n",
       "zip_code                          0\n",
       "addr_state                        0\n",
       "dti                               0\n",
       "delinq_2yrs                       0\n",
       "earliest_cr_line                  0\n",
       "inq_last_6mths                    0\n",
       "mths_since_last_delinq        25682\n",
       "mths_since_last_record        36931\n",
       "open_acc                          0\n",
       "pub_rec                           0\n",
       "revol_bal                         0\n",
       "revol_util                       50\n",
       "total_acc                         0\n",
       "initial_list_status               0\n",
       "out_prncp                         0\n",
       "out_prncp_inv                     0\n",
       "total_pymnt                       0\n",
       "total_pymnt_inv                   0\n",
       "total_rec_prncp                   0\n",
       "total_rec_int                     0\n",
       "total_rec_late_fee                0\n",
       "recoveries                        0\n",
       "collection_recovery_fee           0\n",
       "last_pymnt_d                     71\n",
       "last_pymnt_amnt                   0\n",
       "next_pymnt_d                  38577\n",
       "last_credit_pull_d                2\n",
       "collections_12_mths_ex_med       56\n",
       "policy_code                       0\n",
       "application_type                  0\n",
       "acc_now_delinq                    0\n",
       "chargeoff_within_12_mths         56\n",
       "delinq_amnt                       0\n",
       "pub_rec_bankruptcies            697\n",
       "tax_liens                        39\n",
       "dtype: int64"
      ]
     },
     "execution_count": 14,
     "metadata": {},
     "output_type": "execute_result"
    }
   ],
   "source": [
    "LoanDF.isnull().sum()"
   ]
  },
  {
   "cell_type": "code",
   "execution_count": 15,
   "id": "fceef1f4",
   "metadata": {
    "id": "fceef1f4"
   },
   "outputs": [],
   "source": [
    "##finding % of null values in modified dataframe\n",
    "percent_null=(LoanDF.isnull().sum()/len(LoanDF.index))*100"
   ]
  },
  {
   "cell_type": "code",
   "execution_count": 16,
   "id": "b4ca9ca8",
   "metadata": {
    "colab": {
     "base_uri": "https://localhost:8080/"
    },
    "id": "b4ca9ca8",
    "outputId": "8b4ec441-fdbc-4228-b444-8933fe50c4c2"
   },
   "outputs": [
    {
     "data": {
      "text/plain": [
       "id                             0.000000\n",
       "member_id                      0.000000\n",
       "loan_amnt                      0.000000\n",
       "funded_amnt                    0.000000\n",
       "funded_amnt_inv                0.000000\n",
       "term                           0.000000\n",
       "int_rate                       0.000000\n",
       "installment                    0.000000\n",
       "grade                          0.000000\n",
       "sub_grade                      0.000000\n",
       "emp_title                      6.191303\n",
       "emp_length                     2.706650\n",
       "home_ownership                 0.000000\n",
       "annual_inc                     0.000000\n",
       "verification_status            0.000000\n",
       "issue_d                        0.000000\n",
       "loan_status                    0.000000\n",
       "pymnt_plan                     0.000000\n",
       "url                            0.000000\n",
       "desc                          32.580507\n",
       "purpose                        0.000000\n",
       "title                          0.027696\n",
       "zip_code                       0.000000\n",
       "addr_state                     0.000000\n",
       "dti                            0.000000\n",
       "delinq_2yrs                    0.000000\n",
       "earliest_cr_line               0.000000\n",
       "inq_last_6mths                 0.000000\n",
       "mths_since_last_delinq        64.662487\n",
       "mths_since_last_record        92.985372\n",
       "open_acc                       0.000000\n",
       "pub_rec                        0.000000\n",
       "revol_bal                      0.000000\n",
       "revol_util                     0.125891\n",
       "total_acc                      0.000000\n",
       "initial_list_status            0.000000\n",
       "out_prncp                      0.000000\n",
       "out_prncp_inv                  0.000000\n",
       "total_pymnt                    0.000000\n",
       "total_pymnt_inv                0.000000\n",
       "total_rec_prncp                0.000000\n",
       "total_rec_int                  0.000000\n",
       "total_rec_late_fee             0.000000\n",
       "recoveries                     0.000000\n",
       "collection_recovery_fee        0.000000\n",
       "last_pymnt_d                   0.178765\n",
       "last_pymnt_amnt                0.000000\n",
       "next_pymnt_d                  97.129693\n",
       "last_credit_pull_d             0.005036\n",
       "collections_12_mths_ex_med     0.140998\n",
       "policy_code                    0.000000\n",
       "application_type               0.000000\n",
       "acc_now_delinq                 0.000000\n",
       "chargeoff_within_12_mths       0.140998\n",
       "delinq_amnt                    0.000000\n",
       "pub_rec_bankruptcies           1.754916\n",
       "tax_liens                      0.098195\n",
       "dtype: float64"
      ]
     },
     "execution_count": 16,
     "metadata": {},
     "output_type": "execute_result"
    }
   ],
   "source": [
    "percent_null"
   ]
  },
  {
   "cell_type": "code",
   "execution_count": 17,
   "id": "a743d06c",
   "metadata": {
    "id": "a743d06c"
   },
   "outputs": [],
   "source": [
    "##deleting the columns which has null values more than 15%\n",
    "LoanDF.drop(['desc','mths_since_last_delinq','mths_since_last_record','next_pymnt_d'],axis=1,inplace=True)"
   ]
  },
  {
   "cell_type": "code",
   "execution_count": 18,
   "id": "c81811c6",
   "metadata": {
    "colab": {
     "base_uri": "https://localhost:8080/",
     "height": 386
    },
    "id": "c81811c6",
    "outputId": "8dbf063b-7d5e-4284-bb6e-565710c23b15"
   },
   "outputs": [
    {
     "data": {
      "text/html": [
       "<div>\n",
       "<style scoped>\n",
       "    .dataframe tbody tr th:only-of-type {\n",
       "        vertical-align: middle;\n",
       "    }\n",
       "\n",
       "    .dataframe tbody tr th {\n",
       "        vertical-align: top;\n",
       "    }\n",
       "\n",
       "    .dataframe thead th {\n",
       "        text-align: right;\n",
       "    }\n",
       "</style>\n",
       "<table border=\"1\" class=\"dataframe\">\n",
       "  <thead>\n",
       "    <tr style=\"text-align: right;\">\n",
       "      <th></th>\n",
       "      <th>id</th>\n",
       "      <th>member_id</th>\n",
       "      <th>loan_amnt</th>\n",
       "      <th>funded_amnt</th>\n",
       "      <th>funded_amnt_inv</th>\n",
       "      <th>term</th>\n",
       "      <th>int_rate</th>\n",
       "      <th>installment</th>\n",
       "      <th>grade</th>\n",
       "      <th>sub_grade</th>\n",
       "      <th>...</th>\n",
       "      <th>last_pymnt_amnt</th>\n",
       "      <th>last_credit_pull_d</th>\n",
       "      <th>collections_12_mths_ex_med</th>\n",
       "      <th>policy_code</th>\n",
       "      <th>application_type</th>\n",
       "      <th>acc_now_delinq</th>\n",
       "      <th>chargeoff_within_12_mths</th>\n",
       "      <th>delinq_amnt</th>\n",
       "      <th>pub_rec_bankruptcies</th>\n",
       "      <th>tax_liens</th>\n",
       "    </tr>\n",
       "  </thead>\n",
       "  <tbody>\n",
       "    <tr>\n",
       "      <th>0</th>\n",
       "      <td>1077501</td>\n",
       "      <td>1296599</td>\n",
       "      <td>5000</td>\n",
       "      <td>5000</td>\n",
       "      <td>4975.0</td>\n",
       "      <td>36 months</td>\n",
       "      <td>10.65%</td>\n",
       "      <td>162.87</td>\n",
       "      <td>B</td>\n",
       "      <td>B2</td>\n",
       "      <td>...</td>\n",
       "      <td>171.62</td>\n",
       "      <td>May-16</td>\n",
       "      <td>0.0</td>\n",
       "      <td>1</td>\n",
       "      <td>INDIVIDUAL</td>\n",
       "      <td>0</td>\n",
       "      <td>0.0</td>\n",
       "      <td>0</td>\n",
       "      <td>0.0</td>\n",
       "      <td>0.0</td>\n",
       "    </tr>\n",
       "    <tr>\n",
       "      <th>1</th>\n",
       "      <td>1077430</td>\n",
       "      <td>1314167</td>\n",
       "      <td>2500</td>\n",
       "      <td>2500</td>\n",
       "      <td>2500.0</td>\n",
       "      <td>60 months</td>\n",
       "      <td>15.27%</td>\n",
       "      <td>59.83</td>\n",
       "      <td>C</td>\n",
       "      <td>C4</td>\n",
       "      <td>...</td>\n",
       "      <td>119.66</td>\n",
       "      <td>Sep-13</td>\n",
       "      <td>0.0</td>\n",
       "      <td>1</td>\n",
       "      <td>INDIVIDUAL</td>\n",
       "      <td>0</td>\n",
       "      <td>0.0</td>\n",
       "      <td>0</td>\n",
       "      <td>0.0</td>\n",
       "      <td>0.0</td>\n",
       "    </tr>\n",
       "    <tr>\n",
       "      <th>2</th>\n",
       "      <td>1077175</td>\n",
       "      <td>1313524</td>\n",
       "      <td>2400</td>\n",
       "      <td>2400</td>\n",
       "      <td>2400.0</td>\n",
       "      <td>36 months</td>\n",
       "      <td>15.96%</td>\n",
       "      <td>84.33</td>\n",
       "      <td>C</td>\n",
       "      <td>C5</td>\n",
       "      <td>...</td>\n",
       "      <td>649.91</td>\n",
       "      <td>May-16</td>\n",
       "      <td>0.0</td>\n",
       "      <td>1</td>\n",
       "      <td>INDIVIDUAL</td>\n",
       "      <td>0</td>\n",
       "      <td>0.0</td>\n",
       "      <td>0</td>\n",
       "      <td>0.0</td>\n",
       "      <td>0.0</td>\n",
       "    </tr>\n",
       "    <tr>\n",
       "      <th>3</th>\n",
       "      <td>1076863</td>\n",
       "      <td>1277178</td>\n",
       "      <td>10000</td>\n",
       "      <td>10000</td>\n",
       "      <td>10000.0</td>\n",
       "      <td>36 months</td>\n",
       "      <td>13.49%</td>\n",
       "      <td>339.31</td>\n",
       "      <td>C</td>\n",
       "      <td>C1</td>\n",
       "      <td>...</td>\n",
       "      <td>357.48</td>\n",
       "      <td>Apr-16</td>\n",
       "      <td>0.0</td>\n",
       "      <td>1</td>\n",
       "      <td>INDIVIDUAL</td>\n",
       "      <td>0</td>\n",
       "      <td>0.0</td>\n",
       "      <td>0</td>\n",
       "      <td>0.0</td>\n",
       "      <td>0.0</td>\n",
       "    </tr>\n",
       "    <tr>\n",
       "      <th>4</th>\n",
       "      <td>1075358</td>\n",
       "      <td>1311748</td>\n",
       "      <td>3000</td>\n",
       "      <td>3000</td>\n",
       "      <td>3000.0</td>\n",
       "      <td>60 months</td>\n",
       "      <td>12.69%</td>\n",
       "      <td>67.79</td>\n",
       "      <td>B</td>\n",
       "      <td>B5</td>\n",
       "      <td>...</td>\n",
       "      <td>67.79</td>\n",
       "      <td>May-16</td>\n",
       "      <td>0.0</td>\n",
       "      <td>1</td>\n",
       "      <td>INDIVIDUAL</td>\n",
       "      <td>0</td>\n",
       "      <td>0.0</td>\n",
       "      <td>0</td>\n",
       "      <td>0.0</td>\n",
       "      <td>0.0</td>\n",
       "    </tr>\n",
       "  </tbody>\n",
       "</table>\n",
       "<p>5 rows × 53 columns</p>\n",
       "</div>"
      ],
      "text/plain": [
       "        id  member_id  loan_amnt  funded_amnt  funded_amnt_inv        term  \\\n",
       "0  1077501    1296599       5000         5000           4975.0   36 months   \n",
       "1  1077430    1314167       2500         2500           2500.0   60 months   \n",
       "2  1077175    1313524       2400         2400           2400.0   36 months   \n",
       "3  1076863    1277178      10000        10000          10000.0   36 months   \n",
       "4  1075358    1311748       3000         3000           3000.0   60 months   \n",
       "\n",
       "  int_rate  installment grade sub_grade  ... last_pymnt_amnt  \\\n",
       "0   10.65%       162.87     B        B2  ...          171.62   \n",
       "1   15.27%        59.83     C        C4  ...          119.66   \n",
       "2   15.96%        84.33     C        C5  ...          649.91   \n",
       "3   13.49%       339.31     C        C1  ...          357.48   \n",
       "4   12.69%        67.79     B        B5  ...           67.79   \n",
       "\n",
       "  last_credit_pull_d collections_12_mths_ex_med  policy_code application_type  \\\n",
       "0             May-16                        0.0            1       INDIVIDUAL   \n",
       "1             Sep-13                        0.0            1       INDIVIDUAL   \n",
       "2             May-16                        0.0            1       INDIVIDUAL   \n",
       "3             Apr-16                        0.0            1       INDIVIDUAL   \n",
       "4             May-16                        0.0            1       INDIVIDUAL   \n",
       "\n",
       "  acc_now_delinq chargeoff_within_12_mths delinq_amnt pub_rec_bankruptcies  \\\n",
       "0              0                      0.0           0                  0.0   \n",
       "1              0                      0.0           0                  0.0   \n",
       "2              0                      0.0           0                  0.0   \n",
       "3              0                      0.0           0                  0.0   \n",
       "4              0                      0.0           0                  0.0   \n",
       "\n",
       "  tax_liens  \n",
       "0       0.0  \n",
       "1       0.0  \n",
       "2       0.0  \n",
       "3       0.0  \n",
       "4       0.0  \n",
       "\n",
       "[5 rows x 53 columns]"
      ]
     },
     "execution_count": 18,
     "metadata": {},
     "output_type": "execute_result"
    }
   ],
   "source": [
    "LoanDF.head()"
   ]
  },
  {
   "cell_type": "code",
   "execution_count": 19,
   "id": "af480e8d",
   "metadata": {
    "colab": {
     "base_uri": "https://localhost:8080/"
    },
    "id": "af480e8d",
    "outputId": "4f7b3ecd-f3ca-48b0-bc17-b4dfb2202210",
    "scrolled": true
   },
   "outputs": [
    {
     "data": {
      "text/plain": [
       "(39717, 53)"
      ]
     },
     "execution_count": 19,
     "metadata": {},
     "output_type": "execute_result"
    }
   ],
   "source": [
    "LoanDF.shape"
   ]
  },
  {
   "cell_type": "code",
   "execution_count": 20,
   "id": "1eaab0f2",
   "metadata": {
    "colab": {
     "base_uri": "https://localhost:8080/"
    },
    "id": "1eaab0f2",
    "outputId": "ede9030b-27ea-45d3-b87c-64263d3c6ac2"
   },
   "outputs": [
    {
     "data": {
      "text/plain": [
       "Index(['id', 'member_id', 'loan_amnt', 'funded_amnt', 'funded_amnt_inv',\n",
       "       'term', 'int_rate', 'installment', 'grade', 'sub_grade', 'emp_title',\n",
       "       'emp_length', 'home_ownership', 'annual_inc', 'verification_status',\n",
       "       'issue_d', 'loan_status', 'pymnt_plan', 'url', 'purpose', 'title',\n",
       "       'zip_code', 'addr_state', 'dti', 'delinq_2yrs', 'earliest_cr_line',\n",
       "       'inq_last_6mths', 'open_acc', 'pub_rec', 'revol_bal', 'revol_util',\n",
       "       'total_acc', 'initial_list_status', 'out_prncp', 'out_prncp_inv',\n",
       "       'total_pymnt', 'total_pymnt_inv', 'total_rec_prncp', 'total_rec_int',\n",
       "       'total_rec_late_fee', 'recoveries', 'collection_recovery_fee',\n",
       "       'last_pymnt_d', 'last_pymnt_amnt', 'last_credit_pull_d',\n",
       "       'collections_12_mths_ex_med', 'policy_code', 'application_type',\n",
       "       'acc_now_delinq', 'chargeoff_within_12_mths', 'delinq_amnt',\n",
       "       'pub_rec_bankruptcies', 'tax_liens'],\n",
       "      dtype='object')"
      ]
     },
     "execution_count": 20,
     "metadata": {},
     "output_type": "execute_result"
    }
   ],
   "source": [
    "all_columns=LoanDF.columns\n",
    "all_columns"
   ]
  },
  {
   "cell_type": "code",
   "execution_count": 21,
   "id": "529f130f",
   "metadata": {
    "colab": {
     "base_uri": "https://localhost:8080/"
    },
    "id": "529f130f",
    "outputId": "52ae5bbf-8f53-4081-bfad-24858017a212"
   },
   "outputs": [
    {
     "name": "stdout",
     "output_type": "stream",
     "text": [
      "id   [1077501 1077430 1077175 ...   90395   90376   87023]\n",
      "member_id   [1296599 1314167 1313524 ...   90390   89243   86999]\n",
      "loan_amnt   [ 5000  2500  2400 10000  3000  7000  5600  5375  6500 12000  9000  1000\n",
      "  3600  6000  9200 20250 21000 15000  4000  8500  4375 31825 12400 10800\n",
      " 12500  9600  4400 14000 11000 25600 16000  7100 13000 17500 17675  8000\n",
      "  3500 16425  8200 20975  6400 14400  7250 18000 35000 11800  4500 10500\n",
      " 15300 20000  6200  7200  9500 18825 24000  2100  5500 26800 25000 19750\n",
      " 13650 28000 10625  8850  6375 11100  4200  8875 13500 21600  8450 13475\n",
      " 22000  7325  7750 13350 22475  8400 13250  7350 11500 29500  2000 11625\n",
      " 15075  5300  8650  7400 24250 26000  1500 19600  4225 16500 15600 14125\n",
      " 13200 12300  1400  3200 11875  1800 23200  4800  7300 10400  6600 30000\n",
      "  4475  6300  8250  9875 21500  7800  9750 15550 17000  7500  5800  8050\n",
      "  5400  4125  9800 15700  9900  6250 10200 23000 25975 21250 33425  8125\n",
      " 18800 19200 12875  2625 11300  4100 18225 18500 16800  2200 14050 16100\n",
      " 10525 19775 14500 11700  4150 12375  1700 22250 11200 22500 15900  3150\n",
      " 18550  8575  7700 24500 22200 21400  9400 22400  5825  7650 20675 27050\n",
      " 20500 12800 27575  7600 29000  9575 14575  7125 10700 10375  3050 27000\n",
      " 28625 14100 20050 24925 13600 26400  7150 32000 15500 17475  2250 17050\n",
      "  3250 22750  1200  5900 12600  6750 17250 19075 17200 13225 11775 16400\n",
      " 10075  9350  8075 15625 20125  8300  2425  6950  5350  5875  9450 19000\n",
      " 20400 21650 20300  2300 24575  5850  4750  5275  9175 34475 10050 19400\n",
      " 18200  8800 34000 19500  5200 11900 29100 25850  3300 12200 22575  7175\n",
      " 18250 16750 12950  6350 14750  6625  6900 18650  9250 22800 27300 12250\n",
      "  4350 21200  2700  6025  3825  5325 14150  1600  2800 18975  2575  5450\n",
      "  3800  2125 14650 11250 31000  6075  8475  3625 31300  4250 12650 27600\n",
      " 13150  4300 10275 23600  7875 14550  9925 15850  1325  6325 29700 15200\n",
      " 28100 15250  6800 11325 13975 13800  3100  3975 25450  3575 33600 23700\n",
      " 28200  6475 27700 17375 15800 17625 16675  5250 22950  1950  4650 10250\n",
      "  6100  8325  4850  9425 12700 25475 14850 14300 33000  5150 21625  3775\n",
      " 21575 16250  8375 18725 11125  3525 19800  9300 19125  5575  1450 12900\n",
      " 10150 20450 23500 16600  1300  6925 14675 11550 17400  1100  3400 12775\n",
      "  5050 12100 26375  6975 26300  3125 23325 11600  5100 10175 18400 30750\n",
      " 16550  5650 16450 18950  3650 33950 10125 16775  5700 20200 10600  3725\n",
      " 19425 25900 23800  4025  2600  8900 10900 17600 14825  7925 14950  6700\n",
      "  8600  1925 30500  4900 15575  3175 14800 32275  5750 14600 25200  6550\n",
      " 30400 22900  6850  4600 11425 16950 29850 10675  6650 10775 17325 27250\n",
      "  3700  6450 20800 13575 29275  4725 24800 15750 17100 15875 10925  4950\n",
      " 10575  2850 32875 21100 11050 20375  9325  9375  7475 22125 27525 25500\n",
      " 17750  8675  7450 24625 17900 12075  6725 24400  5225 14075 17175  9475\n",
      "  9975 20900 12150 17725 15350  4925  4550 18750 15125 10950 12475  2750\n",
      "  4625 12175  7575 23525 12350 17950  9525  8975 11975 12850 19850 21850\n",
      "  4425 32250  2550 11400 21725 23100 13700  9950 21750 13750 12025 23400\n",
      " 14975 19700 27500  3900 14725 17800  5175 15025 29550 23850 31500  9100\n",
      " 27400 23675  9825 16200 11650 18875 29175  3950  2050 19950 12750 24375\n",
      "  2875 25875 16275 10300 17450  3450  1825 13100 23275  8700  3675  8150\n",
      " 23975  3350  7075  8625 31800 26200 34675 11025  7850 14175  9150 19925\n",
      " 14275 25400 17825 16875 21800 14475 14225 10225 10650 12725 31400  1550\n",
      " 31700 31200  1875 16300 12550 11725 22600 26500  6225  4450  3875 13275\n",
      " 34525 31025  6775 19450  2900  2450 27200 21300  4700  7425 19575 31150\n",
      " 19100 30100 24600 32350  1900 29300  2350 15950 13300  2975 28250  8100\n",
      " 28600  6425  4050 23450 32400 13675 21350  9050  2675  5025  5950 12625\n",
      " 29800  1750 10825 24700 13125  6125 26850 28800  7275  6825 14775 10975\n",
      " 20950  3850 28500 31325 11750 15825  7525  3550  7950 13400  3375  1250\n",
      " 29600 22350  1850 17850 17875  7550  6175 30800 21125 30225  3750 10025\n",
      " 14350  7775 33500 18900  8025  5125 13775  3075 29900 11525  5550  5975\n",
      " 32500 22100 25300 14700  3325  5075  5625 27175 11575 16325 24200 15050\n",
      "  5425 17700 12450 19725 19550  3025 22875 23075 15450 10750  4325  3275\n",
      "  8175 20700  1775  4775  8225  4575 15775 19475 14200 21225 17225 12425\n",
      "  7900 14525  2650  8275 13325 30600  6275  4075  1625  1275 13075 23750\n",
      " 24650 14250  8825  5775  8350 19150  9725 18575  8725 16050 26250 16075\n",
      "  6150  8750 11075 10875 16350  2275  3925 11375  4275 18325  9650  2725\n",
      " 10425  6575  2075 13175  9550 12675 15425 18300 18600  5525 10550 22325\n",
      " 15175 12225 12525 28750 15650 11450 23350  1525 31725 13625 32775 20600\n",
      "  8550 15975  9775 13425  1050  2950 12925 29375 12325  9075  1350 21700\n",
      " 15400  4975 11275  7725  9225  2325 13725  8775 19250 14900 34800 17300\n",
      "  9700  2150 10100 10350  2825 17975  1650 15275  7975  2925  2525  2225\n",
      "  5725 23425  4875  2475  3425 16700  2775 13050 34200  5925 26025 16225\n",
      "  9275 11350 21450 10850  7225  1425  5475 19300  7050 24175 12050  1225\n",
      " 13850 32525 17075  1375  1675 18275  9125 33250 16525 11850 22300  2375\n",
      "  7675  8525 31050  4525  7025 14625 13375  4675 25375 24975 12825 18150\n",
      " 18050  9850 14875 17425 16725 13550  9625 15150 19875  1475 22650 17150\n",
      "  6875  7375  5675  7625  6525  3225  6675  1075 15675 17275 11475 12975\n",
      " 15325  1125  8950 11675 12275  3475 21425 18125 23050 11175 10450 21825\n",
      " 10475 20150 24750 13900  4175 24100 17925 24150 19975 19900 13950 12125\n",
      " 11225 23475 19650 13450 10725  1150 20475 17525   500   725 23575   700\n",
      "   950 19275   900   750 17350   800 10325 13025 22550]\n",
      "funded_amnt   [ 5000  2500  2400 ...   800 13875 22350]\n",
      "funded_amnt_inv   [4975. 2500. 2400. ...  200.   75.  150.]\n",
      "term   [' 36 months' ' 60 months']\n",
      "int_rate   ['10.65%' '15.27%' '15.96%' '13.49%' '12.69%' '7.90%' '18.64%' '21.28%'\n",
      " '14.65%' '9.91%' '16.29%' '6.03%' '11.71%' '12.42%' '14.27%' '16.77%'\n",
      " '7.51%' '8.90%' '18.25%' '6.62%' '19.91%' '17.27%' '17.58%' '21.67%'\n",
      " '19.42%' '22.06%' '20.89%' '20.30%' '23.91%' '19.03%' '23.52%' '23.13%'\n",
      " '22.74%' '22.35%' '24.11%' '6.00%' '22.11%' '7.49%' '11.99%' '5.99%'\n",
      " '10.99%' '9.99%' '18.79%' '11.49%' '8.49%' '15.99%' '16.49%' '6.99%'\n",
      " '12.99%' '15.23%' '14.79%' '5.42%' '10.59%' '17.49%' '15.62%' '21.36%'\n",
      " '19.29%' '13.99%' '18.39%' '16.89%' '17.99%' '20.62%' '20.99%' '22.85%'\n",
      " '19.69%' '20.25%' '23.22%' '21.74%' '22.48%' '23.59%' '12.62%' '18.07%'\n",
      " '11.63%' '7.91%' '7.42%' '11.14%' '20.20%' '12.12%' '19.39%' '16.11%'\n",
      " '17.54%' '22.64%' '13.84%' '16.59%' '17.19%' '12.87%' '20.69%' '9.67%'\n",
      " '21.82%' '19.79%' '18.49%' '22.94%' '24.59%' '24.40%' '21.48%' '14.82%'\n",
      " '14.17%' '7.29%' '17.88%' '20.11%' '16.02%' '17.51%' '13.43%' '14.91%'\n",
      " '13.06%' '15.28%' '15.65%' '17.14%' '11.11%' '10.37%' '16.40%' '7.66%'\n",
      " '10.00%' '18.62%' '10.74%' '5.79%' '6.92%' '9.63%' '14.54%' '12.68%'\n",
      " '19.36%' '13.80%' '18.99%' '21.59%' '20.85%' '21.22%' '19.74%' '20.48%'\n",
      " '6.91%' '12.23%' '12.61%' '10.36%' '6.17%' '6.54%' '9.25%' '16.69%'\n",
      " '15.95%' '8.88%' '13.35%' '9.62%' '16.32%' '12.98%' '14.83%' '13.72%'\n",
      " '14.09%' '14.46%' '20.03%' '17.80%' '15.20%' '15.57%' '18.54%' '19.66%'\n",
      " '17.06%' '18.17%' '17.43%' '20.40%' '20.77%' '18.91%' '21.14%' '17.44%'\n",
      " '13.23%' '7.88%' '11.12%' '13.61%' '10.38%' '17.56%' '17.93%' '15.58%'\n",
      " '13.98%' '14.84%' '15.21%' '6.76%' '6.39%' '11.86%' '7.14%' '14.35%'\n",
      " '16.82%' '10.75%' '14.72%' '16.45%' '18.67%' '20.53%' '19.41%' '20.16%'\n",
      " '21.27%' '18.30%' '19.04%' '20.90%' '21.64%' '12.73%' '10.25%' '13.11%'\n",
      " '10.62%' '13.48%' '14.59%' '16.07%' '15.70%' '9.88%' '11.36%' '15.33%'\n",
      " '13.85%' '14.96%' '14.22%' '7.74%' '13.22%' '13.57%' '8.59%' '17.04%'\n",
      " '14.61%' '8.94%' '12.18%' '11.83%' '11.48%' '16.35%' '13.92%' '15.31%'\n",
      " '14.26%' '19.13%' '12.53%' '16.70%' '16.00%' '17.39%' '18.09%' '7.40%'\n",
      " '18.43%' '17.74%' '7.05%' '20.52%' '20.86%' '19.47%' '18.78%' '21.21%'\n",
      " '19.82%' '20.17%' '13.16%' '8.00%' '13.47%' '12.21%' '16.63%' '9.32%'\n",
      " '12.84%' '11.26%' '15.68%' '15.37%' '10.95%' '11.89%' '14.11%' '13.79%'\n",
      " '7.68%' '11.58%' '7.37%' '16.95%' '15.05%' '18.53%' '14.74%' '14.42%'\n",
      " '18.21%' '17.26%' '18.84%' '17.90%' '19.16%' '13.67%' '9.38%' '12.72%'\n",
      " '13.36%' '11.46%' '10.51%' '9.07%' '13.04%' '11.78%' '12.41%' '10.83%'\n",
      " '12.09%' '17.46%' '14.30%' '17.15%' '15.25%' '10.20%' '15.88%' '14.93%'\n",
      " '16.20%' '18.72%' '14.62%' '8.32%' '14.12%' '10.96%' '10.33%' '10.01%'\n",
      " '12.86%' '11.28%' '11.59%' '8.63%' '12.54%' '12.22%' '11.91%' '15.38%'\n",
      " '16.96%' '13.17%' '9.70%' '16.33%' '14.75%' '15.07%' '16.01%' '10.71%'\n",
      " '10.64%' '9.76%' '11.34%' '10.39%' '13.87%' '11.03%' '11.66%' '13.24%'\n",
      " '10.08%' '9.45%' '13.55%' '12.29%' '11.97%' '12.92%' '15.45%' '14.50%'\n",
      " '14.18%' '15.13%' '16.08%' '15.76%' '17.03%' '17.34%' '16.71%' '9.83%'\n",
      " '13.62%' '10.46%' '9.51%' '9.20%' '13.30%' '10.78%' '7.75%' '8.38%'\n",
      " '12.36%' '12.67%' '11.72%' '13.93%' '8.07%' '7.43%' '12.04%' '14.25%'\n",
      " '14.88%' '11.41%' '11.09%' '10.14%' '16.15%' '15.83%' '7.12%' '18.36%'\n",
      " '9.64%' '9.96%' '11.22%' '9.01%' '9.33%' '11.54%' '12.17%' '12.80%'\n",
      " '14.38%' '13.75%' '14.70%' '12.49%' '14.07%' '10.91%' '13.12%' '10.28%'\n",
      " '8.70%' '14.67%' '15.01%']\n",
      "installment   [162.87  59.83  84.33 ...  78.42 275.38 255.43]\n",
      "grade   ['B' 'C' 'A' 'E' 'F' 'D' 'G']\n",
      "sub_grade   ['B2' 'C4' 'C5' 'C1' 'B5' 'A4' 'E1' 'F2' 'C3' 'B1' 'D1' 'A1' 'B3' 'B4'\n",
      " 'C2' 'D2' 'A3' 'A5' 'D5' 'A2' 'E4' 'D3' 'D4' 'F3' 'E3' 'F4' 'F1' 'E5'\n",
      " 'G4' 'E2' 'G3' 'G2' 'G1' 'F5' 'G5']\n",
      "emp_title   [nan 'Ryder' 'AIR RESOURCES BOARD' ... 'FiSite Research'\n",
      " 'Squarewave Solutions, Ltd.' 'Evergreen Center']\n",
      "emp_length   ['10+ years' '< 1 year' '1 year' '3 years' '8 years' '9 years' '4 years'\n",
      " '5 years' '6 years' '2 years' '7 years' nan]\n",
      "home_ownership   ['RENT' 'OWN' 'MORTGAGE' 'OTHER' 'NONE']\n",
      "annual_inc   [24000. 30000. 12252. ... 33990. 36153. 27376.]\n",
      "verification_status   ['Verified' 'Source Verified' 'Not Verified']\n",
      "issue_d   ['Dec-11' 'Nov-11' 'Oct-11' 'Sep-11' 'Aug-11' 'Jul-11' 'Jun-11' 'May-11'\n",
      " 'Apr-11' 'Mar-11' 'Feb-11' 'Jan-11' 'Dec-10' 'Nov-10' 'Oct-10' 'Sep-10'\n",
      " 'Aug-10' 'Jul-10' 'Jun-10' 'May-10' 'Apr-10' 'Mar-10' 'Feb-10' 'Jan-10'\n",
      " 'Dec-09' 'Nov-09' 'Oct-09' 'Sep-09' 'Aug-09' 'Jul-09' 'Jun-09' 'May-09'\n",
      " 'Apr-09' 'Mar-09' 'Feb-09' 'Jan-09' 'Dec-08' 'Nov-08' 'Oct-08' 'Sep-08'\n",
      " 'Aug-08' 'Jul-08' 'Jun-08' 'May-08' 'Apr-08' 'Mar-08' 'Feb-08' 'Jan-08'\n",
      " 'Dec-07' 'Nov-07' 'Oct-07' 'Sep-07' 'Aug-07' 'Jul-07' 'Jun-07']\n",
      "loan_status   ['Fully Paid' 'Charged Off' 'Current']\n",
      "pymnt_plan   ['n']\n",
      "url   ['https://lendingclub.com/browse/loanDetail.action?loan_id=1077501'\n",
      " 'https://lendingclub.com/browse/loanDetail.action?loan_id=1077430'\n",
      " 'https://lendingclub.com/browse/loanDetail.action?loan_id=1077175' ...\n",
      " 'https://lendingclub.com/browse/loanDetail.action?loan_id=90395'\n",
      " 'https://lendingclub.com/browse/loanDetail.action?loan_id=90376'\n",
      " 'https://lendingclub.com/browse/loanDetail.action?loan_id=87023']\n",
      "purpose   ['credit_card' 'car' 'small_business' 'other' 'wedding'\n",
      " 'debt_consolidation' 'home_improvement' 'major_purchase' 'medical'\n",
      " 'moving' 'vacation' 'house' 'renewable_energy' 'educational']\n",
      "title   ['Computer' 'bike' 'real estate business' ... 'Retiring credit card debt'\n",
      " 'MBA Loan Consolidation' 'JAL Loan']\n",
      "zip_code   ['860xx' '309xx' '606xx' '917xx' '972xx' '852xx' '280xx' '900xx' '958xx'\n",
      " '774xx' '853xx' '913xx' '245xx' '951xx' '641xx' '921xx' '067xx' '890xx'\n",
      " '770xx' '335xx' '799xx' '605xx' '103xx' '150xx' '326xx' '564xx' '141xx'\n",
      " '080xx' '330xx' '974xx' '934xx' '405xx' '946xx' '445xx' '850xx' '604xx'\n",
      " '292xx' '088xx' '180xx' '029xx' '700xx' '010xx' '441xx' '104xx' '061xx'\n",
      " '616xx' '947xx' '914xx' '765xx' '980xx' '017xx' '752xx' '787xx' '077xx'\n",
      " '540xx' '225xx' '440xx' '437xx' '559xx' '912xx' '325xx' '300xx' '923xx'\n",
      " '352xx' '013xx' '146xx' '074xx' '786xx' '937xx' '331xx' '115xx' '191xx'\n",
      " '114xx' '908xx' '902xx' '992xx' '750xx' '950xx' '329xx' '226xx' '614xx'\n",
      " '802xx' '672xx' '083xx' '100xx' '926xx' '931xx' '712xx' '060xx' '707xx'\n",
      " '342xx' '895xx' '430xx' '919xx' '996xx' '891xx' '935xx' '801xx' '928xx'\n",
      " '233xx' '927xx' '970xx' '211xx' '303xx' '070xx' '194xx' '263xx' '403xx'\n",
      " '301xx' '553xx' '993xx' '312xx' '432xx' '602xx' '216xx' '151xx' '971xx'\n",
      " '305xx' '334xx' '050xx' '129xx' '925xx' '483xx' '760xx' '961xx' '200xx'\n",
      " '085xx' '981xx' '601xx' '117xx' '063xx' '920xx' '543xx' '775xx' '570xx'\n",
      " '038xx' '221xx' '985xx' '113xx' '275xx' '236xx' '148xx' '028xx' '450xx'\n",
      " '532xx' '729xx' '321xx' '959xx' '941xx' '955xx' '217xx' '880xx' '660xx'\n",
      " '062xx' '193xx' '761xx' '857xx' '306xx' '271xx' '142xx' '956xx' '983xx'\n",
      " '945xx' '109xx' '112xx' '187xx' '630xx' '435xx' '488xx' '287xx' '705xx'\n",
      " '592xx' '318xx' '549xx' '212xx' '347xx' '274xx' '265xx' '785xx' '027xx'\n",
      " '089xx' '813xx' '069xx' '260xx' '201xx' '349xx' '322xx' '075xx' '124xx'\n",
      " '940xx' '967xx' '111xx' '773xx' '997xx' '076xx' '538xx' '021xx' '304xx'\n",
      " '234xx' '308xx' '809xx' '071xx' '363xx' '296xx' '240xx' '830xx' '011xx'\n",
      " '622xx' '207xx' '140xx' '336xx' '619xx' '208xx' '618xx' '014xx' '644xx'\n",
      " '283xx' '276xx' '631xx' '243xx' '960xx' '181xx' '922xx' '224xx' '975xx'\n",
      " '105xx' '986xx' '218xx' '652xx' '782xx' '410xx' '480xx' '328xx' '719xx'\n",
      " '982xx' '065xx' '081xx' '954xx' '346xx' '442xx' '025xx' '122xx' '173xx'\n",
      " '282xx' '120xx' '082xx' '766xx' '229xx' '840xx' '744xx' '933xx' '451xx'\n",
      " '907xx' '728xx' '159xx' '333xx' '293xx' '701xx' '984xx' '811xx' '597xx'\n",
      " '957xx' '165xx' '720xx' '119xx' '359xx' '195xx' '084xx' '969xx' '924xx'\n",
      " '531xx' '716xx' '337xx' '841xx' '323xx' '740xx' '179xx' '805xx' '285xx'\n",
      " '551xx' '658xx' '944xx' '232xx' '905xx' '600xx' '327xx' '711xx' '906xx'\n",
      " '444xx' '856xx' '777xx' '072xx' '554xx' '145xx' '537xx' '152xx' '847xx'\n",
      " '295xx' '829xx' '320xx' '131xx' '939xx' '572xx' '281xx' '064xx' '550xx'\n",
      " '078xx' '452xx' '778xx' '313xx' '851xx' '784xx' '804xx' '571xx' '210xx'\n",
      " '988xx' '400xx' '995xx' '023xx' '158xx' '657xx' '016xx' '019xx' '290xx'\n",
      " '190xx' '366xx' '066xx' '991xx' '968xx' '721xx' '439xx' '640xx' '546xx'\n",
      " '024xx' '751xx' '431xx' '741xx' '904xx' '156xx' '316xx' '299xx' '087xx'\n",
      " '739xx' '949xx' '261xx' '073xx' '222xx' '244xx' '617xx' '018xx' '286xx'\n",
      " '759xx' '952xx' '930xx' '911xx' '220xx' '731xx' '730xx' '262xx' '338xx'\n",
      " '160xx' '031xx' '054xx' '223xx' '272xx' '882xx' '557xx' '797xx' '725xx'\n",
      " '130xx' '030xx' '206xx' '324xx' '170xx' '291xx' '161xx' '647xx' '916xx'\n",
      " '665xx' '209xx' '915xx' '110xx' '086xx' '484xx' '844xx' '020xx' '354xx'\n",
      " '448xx' '978xx' '757xx' '953xx' '577xx' '315xx' '664xx' '186xx' '182xx'\n",
      " '574xx' '800xx' '197xx' '137xx' '314xx' '755xx' '973xx' '603xx' '481xx'\n",
      " '780xx' '894xx' '341xx' '361xx' '178xx' '068xx' '565xx' '611xx' '288xx'\n",
      " '443xx' '662xx' '874xx' '560xx' '535xx' '499xx' '162xx' '756xx' '168xx'\n",
      " '827xx' '541xx' '615xx' '989xx' '037xx' '863xx' '339xx' '367xx' '273xx'\n",
      " '052xx' '623xx' '416xx' '648xx' '918xx' '436xx' '898xx' '674xx' '496xx'\n",
      " '294xx' '762xx' '128xx' '903xx' '932xx' '650xx' '246xx' '633xx' '666xx'\n",
      " '228xx' '015xx' '302xx' '573xx' '118xx' '998xx' '767xx' '490xx' '350xx'\n",
      " '591xx' '254xx' '566xx' '596xx' '637xx' '032xx' '763xx' '494xx' '402xx'\n",
      " '545xx' '184xx' '239xx' '977xx' '297xx' '284xx' '144xx' '748xx' '310xx'\n",
      " '147xx' '153xx' '544xx' '948xx' '576xx' '976xx' '107xx' '846xx' '344xx'\n",
      " '351xx' '754xx' '910xx' '656xx' '357xx' '791xx' '493xx' '855xx' '278xx'\n",
      " '125xx' '175xx' '530xx' '171xx' '703xx' '620xx' '438xx' '626xx' '307xx'\n",
      " '636xx' '319xx' '116xx' '645xx' '708xx' '816xx' '625xx' '133xx' '612xx'\n",
      " '238xx' '166xx' '231xx' '241xx' '826xx' '783xx' '793xx' '646xx' '188xx'\n",
      " '108xx' '653xx' '871xx' '057xx' '796xx' '990xx' '219xx' '724xx' '456xx'\n",
      " '214xx' '237xx' '737xx' '121xx' '199xx' '548xx' '453xx' '704xx' '368xx'\n",
      " '828xx' '598xx' '136xx' '610xx' '433xx' '722xx' '743xx' '810xx' '706xx'\n",
      " '235xx' '139xx' '613xx' '454xx' '317xx' '746xx' '446xx' '486xx' '033xx'\n",
      " '279xx' '407xx' '803xx' '794xx' '457xx' '189xx' '196xx' '539xx' '424xx'\n",
      " '492xx' '482xx' '667xx' '845xx' '608xx' '401xx' '362xx' '627xx' '717xx'\n",
      " '356xx' '607xx' '963xx' '198xx' '936xx' '713xx' '227xx' '883xx' '563xx'\n",
      " '893xx' '079xx' '806xx' '360xx' '172xx' '422xx' '768xx' '034xx' '735xx'\n",
      " '870xx' '012xx' '594xx' '215xx' '628xx' '749xx' '101xx' '814xx' '255xx'\n",
      " '745xx' '495xx' '132xx' '183xx' '864xx' '106xx' '663xx' '943xx' '094xx'\n",
      " '177xx' '365xx' '897xx' '776xx' '843xx' '458xx' '421xx' '253xx' '795xx'\n",
      " '727xx' '528xx' '270xx' '808xx' '277xx' '447xx' '358xx' '815xx' '250xx'\n",
      " '230xx' '790xx' '884xx' '242xx' '534xx' '404xx' '397xx' '434xx' '671xx'\n",
      " '655xx' '675xx' '053xx' '859xx' '126xx' '102xx' '256xx' '673xx' '489xx'\n",
      " '258xx' '423xx' '497xx' '788xx' '127xx' '176xx' '380xx' '058xx' '635xx'\n",
      " '498xx' '820xx' '599xx' '822xx' '638xx' '723xx' '449xx' '420xx' '157xx'\n",
      " '726xx' '185xx' '527xx' '298xx' '769xx' '257xx' '881xx' '575xx' '624xx'\n",
      " '134xx' '877xx' '781xx' '718xx' '670xx' '138xx' '026xx' '678xx' '398xx'\n",
      " '411xx' '149xx' '247xx' '875xx' '838xx' '651xx' '364xx' '203xx' '427xx'\n",
      " '629xx' '355xx' '174xx' '547xx' '567xx' '558xx' '135xx' '035xx' '999xx'\n",
      " '634xx' '455xx' '143xx' '154xx' '562xx' '779xx' '561xx' '734xx' '789xx'\n",
      " '812xx' '268xx' '051xx' '865xx' '406xx' '661xx' '758xx' '676xx' '491xx'\n",
      " '267xx' '609xx' '595xx' '259xx' '163xx' '264xx' '409xx' '376xx' '471xx'\n",
      " '375xx' '747xx' '123xx' '714xx' '590xx' '639xx' '412xx' '425xx' '022xx'\n",
      " '369xx' '164xx' '825xx' '266xx' '096xx' '487xx' '251xx' '593xx' '169xx'\n",
      " '413xx' '155xx' '764xx' '710xx' '408xx' '668xx' '056xx' '669xx' '167xx'\n",
      " '542xx' '679xx' '462xx' '792xx' '824xx' '249xx' '798xx' '370xx' '485xx'\n",
      " '654xx' '289xx' '807xx' '252xx' '556xx' '353xx' '677xx' '090xx' '371xx'\n",
      " '831xx' '736xx' '007xx' '332xx' '468xx' '461xx' '093xx' '248xx' '463xx'\n",
      " '391xx' '381xx' '415xx' '378xx' '414xx' '396xx' '836xx' '044xx' '392xx'\n",
      " '772xx' '374xx' '823xx' '395xx' '394xx' '965xx' '390xx' '388xx' '386xx'\n",
      " '040xx' '385xx' '379xx' '681xx' '837xx' '373xx' '753xx' '834xx' '383xx'\n",
      " '384xx' '372xx' '833xx' '522xx' '523xx' '474xx' '465xx' '689xx' '473xx'\n",
      " '041xx' '685xx' '479xx' '469xx']\n",
      "addr_state   ['AZ' 'GA' 'IL' 'CA' 'OR' 'NC' 'TX' 'VA' 'MO' 'CT' 'UT' 'FL' 'NY' 'PA'\n",
      " 'MN' 'NJ' 'KY' 'OH' 'SC' 'RI' 'LA' 'MA' 'WA' 'WI' 'AL' 'CO' 'KS' 'NV'\n",
      " 'AK' 'MD' 'WV' 'VT' 'MI' 'DC' 'SD' 'NH' 'AR' 'NM' 'MT' 'HI' 'WY' 'OK'\n",
      " 'DE' 'MS' 'TN' 'IA' 'NE' 'ID' 'IN' 'ME']\n",
      "dti   [27.65  1.    8.72 ...  1.79  0.12 25.43]\n",
      "delinq_2yrs   [ 0  2  3  1  4  6  5  8  7  9 11]\n",
      "earliest_cr_line   ['Jan-85' 'Apr-99' 'Nov-01' 'Feb-96' 'Jan-96' 'Nov-04' 'Jul-05' 'Jan-07'\n",
      " 'Apr-04' 'Sep-04' 'Jan-98' 'Oct-89' 'Jul-03' 'May-91' 'Sep-07' 'Oct-98'\n",
      " 'Aug-93' 'Oct-03' 'Jan-01' 'Nov-97' 'Feb-83' 'Jul-85' 'Apr-03' 'Jun-01'\n",
      " 'Feb-02' 'Aug-84' 'Nov-06' 'Dec-87' 'Nov-81' 'Feb-97' 'Apr-05' 'Oct-07'\n",
      " 'Dec-00' 'Apr-07' 'Dec-01' 'Jan-03' 'Mar-94' 'Sep-98' 'Jun-04' 'Nov-95'\n",
      " 'Jul-99' 'Jun-95' 'Sep-92' 'Jan-02' 'Apr-92' 'Oct-06' 'May-00' 'Dec-98'\n",
      " 'Dec-04' 'Oct-00' 'May-02' 'May-06' 'Jul-02' 'Jul-06' 'May-97' 'Oct-05'\n",
      " 'Apr-95' 'Oct-02' 'Jan-00' 'Apr-00' 'Dec-94' 'Sep-05' 'Dec-84' 'Dec-99'\n",
      " 'Nov-03' 'Jun-89' 'Jun-03' 'Oct-96' 'May-03' 'Jun-02' 'Jun-07' 'Dec-96'\n",
      " 'Feb-84' 'Sep-02' 'Jan-86' 'May-98' 'Jan-97' 'Jun-05' 'Feb-90' 'Mar-04'\n",
      " 'Jul-95' 'Aug-94' 'Jun-92' 'Mar-97' 'Apr-06' 'Apr-90' 'Aug-99' 'Sep-00'\n",
      " 'Feb-01' 'Dec-88' 'Feb-99' 'Dec-91' 'Aug-00' 'Oct-04' 'Aug-04' 'Feb-05'\n",
      " 'Nov-05' 'Nov-00' 'May-07' 'Jan-91' 'Jun-00' 'Aug-06' 'Dec-02' 'Jun-93'\n",
      " 'Jun-06' 'Feb-04' 'Dec-90' 'Mar-00' 'Feb-95' 'Jul-01' 'Apr-02' 'Sep-06'\n",
      " 'May-99' 'Aug-98' 'Dec-05' 'May-04' 'Oct-01' 'Jun-83' 'Mar-86' 'Apr-80'\n",
      " 'Jul-04' 'Jul-08' 'May-96' 'Jan-04' 'Nov-02' 'Aug-02' 'Aug-01' 'Mar-91'\n",
      " 'Sep-89' 'Sep-94' 'Sep-03' 'Sep-99' 'Aug-05' 'Dec-86' 'Nov-98' 'Feb-06'\n",
      " 'May-94' 'Nov-07' 'Feb-93' 'Nov-91' 'May-05' 'Dec-73' 'May-01' 'Mar-90'\n",
      " 'Mar-96' 'Oct-79' 'Jun-81' 'Mar-01' 'Apr-01' 'Jun-99' 'Nov-93' 'Jan-06'\n",
      " 'Dec-97' 'Nov-94' 'Jul-97' 'Oct-91' 'Jun-94' 'Mar-06' 'Sep-96' 'Apr-91'\n",
      " 'Jul-93' 'Jan-95' 'Sep-87' 'Mar-03' 'Oct-99' 'Jul-96' 'Dec-03' 'Aug-88'\n",
      " 'Jan-92' 'Mar-98' 'Feb-07' 'Aug-82' 'Mar-95' 'Dec-92' 'Jul-98' 'Jul-89'\n",
      " 'May-90' 'Jul-94' 'Sep-01' 'Mar-84' 'Aug-03' 'Nov-99' 'Mar-07' 'Mar-08'\n",
      " 'Apr-94' 'Jan-05' 'Jul-86' 'Aug-90' 'May-92' 'Jul-00' 'Mar-88' 'May-83'\n",
      " 'Apr-93' 'Jul-78' 'Feb-00' 'Dec-81' 'Mar-92' 'Jan-81' 'Sep-90' 'Jun-98'\n",
      " 'May-93' 'Nov-96' 'Mar-02' 'Jan-88' 'Aug-97' 'Aug-87' 'Aug-08' 'Oct-94'\n",
      " 'Oct-86' 'Feb-94' 'Jun-96' 'Feb-98' 'Nov-08' 'Apr-98' 'Jul-79' 'Jan-93'\n",
      " 'May-87' 'Jul-71' 'Aug-07' 'Jun-97' 'Mar-80' 'Dec-06' 'Jul-07' 'Oct-95'\n",
      " 'Jul-91' 'Jul-92' 'Dec-72' 'Dec-93' 'Jan-99' 'Feb-03' 'Apr-97' 'Dec-95'\n",
      " 'Apr-96' 'Jul-90' 'Mar-70' 'Nov-84' 'Apr-84' 'Jul-84' 'Aug-95' 'Mar-99'\n",
      " 'Sep-88' 'Mar-89' 'Mar-87' 'Oct-97' 'Dec-80' 'Jan-94' 'Sep-95' 'Mar-05'\n",
      " 'Jan-89' 'Feb-92' 'Jan-90' 'Nov-90' 'Mar-69' 'Jun-75' 'Mar-85' 'Dec-07'\n",
      " 'Oct-93' 'Dec-89' 'Sep-80' 'Jun-88' 'May-78' 'Apr-73' 'Aug-89' 'Oct-90'\n",
      " 'Sep-91' 'Feb-82' 'Feb-87' 'Nov-85' 'Jan-84' 'Jul-88' 'May-08' 'Oct-85'\n",
      " 'Mar-83' 'Aug-91' 'Sep-86' 'Jun-90' 'Feb-86' 'Sep-97' 'Jun-84' 'Sep-81'\n",
      " 'Apr-86' 'Aug-79' 'Aug-80' 'Nov-92' 'Sep-93' 'Jun-87' 'Sep-82' 'Aug-92'\n",
      " 'Aug-85' 'Jul-83' 'Jun-91' 'Dec-83' 'Jan-87' 'Nov-78' 'Oct-84' 'Aug-96'\n",
      " 'Nov-89' 'Sep-76' 'Nov-86' 'Oct-87' 'Sep-08' 'May-77' 'May-86' 'Mar-81'\n",
      " 'Jan-83' 'Nov-76' 'Sep-79' 'Oct-83' 'Sep-62' 'Jun-85' 'May-82' 'Feb-88'\n",
      " 'Oct-92' 'Aug-83' 'Jun-73' 'Apr-85' 'Oct-88' 'Oct-81' 'Sep-68' 'Jul-74'\n",
      " 'Nov-87' 'May-95' 'Feb-91' 'Nov-88' 'Mar-93' 'Jun-08' 'Jul-80' 'Dec-82'\n",
      " 'Mar-75' 'Feb-80' 'Apr-88' 'Dec-79' 'Sep-85' 'Sep-71' 'Mar-78' 'Feb-08'\n",
      " 'Aug-78' 'Nov-70' 'Jun-79' 'Jun-80' 'Apr-89' 'Sep-83' 'Feb-89' 'Nov-83'\n",
      " 'Jun-86' 'Oct-82' 'Aug-86' 'Oct-80' 'May-88' 'Dec-85' 'Jan-82' 'Sep-77'\n",
      " 'Dec-76' 'Apr-82' 'May-84' 'Apr-08' 'Feb-79' 'Jan-08' 'Sep-64' 'Jul-87'\n",
      " 'Jan-78' 'May-89' 'Oct-77' 'Dec-75' 'Feb-85' 'Oct-08' 'Nov-82' 'May-75'\n",
      " 'May-85' 'Feb-71' 'Jun-77' 'Apr-81' 'May-79' 'Jan-72' 'Sep-67' 'Apr-78'\n",
      " 'Feb-65' 'Apr-83' 'Nov-75' 'Jun-67' 'Mar-74' 'Jul-72' 'Aug-67' 'Apr-71'\n",
      " 'Sep-84' 'May-81' 'Dec-70' 'Oct-73' 'Jan-71' 'Dec-63' 'Apr-74' 'Jan-80'\n",
      " 'Aug-69' 'Apr-75' 'Jul-77' 'Mar-77' 'Nov-69' 'Jan-76' 'Mar-82' 'Apr-87'\n",
      " 'Dec-69' 'May-74' 'Aug-74' 'Jun-72' 'Mar-63' 'Nov-79' 'Aug-75' 'Sep-74'\n",
      " 'Aug-81' 'May-73' 'Sep-73' 'Mar-73' 'Dec-77' 'Oct-76' 'Jan-74' 'Jan-70'\n",
      " 'Aug-68' 'Feb-76' 'Jan-75' 'Oct-72' 'Dec-74' 'Feb-73' 'Nov-65' 'Mar-72'\n",
      " 'Jun-82' 'Jun-74' 'May-65' 'Jun-71' 'Oct-70' 'Apr-76' 'Oct-71' 'Apr-77'\n",
      " 'Sep-78' 'Oct-78' 'Oct-54' 'Feb-81' 'Jan-77' 'Aug-77' 'Dec-78' 'Aug-76'\n",
      " 'Jun-68' 'Jun-78' 'Jun-69' 'May-80' 'Jan-79' 'Oct-65' 'Nov-74' 'Apr-66'\n",
      " 'Jun-76' 'Feb-72' 'May-76' 'Mar-68' 'Mar-76' 'Jul-70' 'Mar-79' 'Jul-76'\n",
      " 'Jul-82' 'Sep-65' 'Apr-67' 'Oct-63' 'Feb-70' 'Jul-73' 'Feb-78' 'Nov-71'\n",
      " 'Aug-72' 'Jul-75' 'Sep-70' 'Jul-81' 'Oct-64' 'Sep-72' 'May-70' 'May-63'\n",
      " 'Feb-69' 'Nov-80' 'Jul-67' 'Apr-70' 'Nov-77' 'Nov-66' 'May-71' 'Apr-79'\n",
      " 'May-72' 'Feb-68' 'Jul-64' 'Nov-67' 'Apr-64' 'Feb-75' 'Jun-59' 'Sep-56'\n",
      " 'Jun-66' 'Jan-46' 'Mar-66' 'Jan-63' 'Dec-50' 'Jul-69' 'Jan-68' 'Nov-73'\n",
      " 'Jun-70' 'Feb-77' 'Feb-74' 'Jan-73' 'Feb-66' 'Dec-61' 'Aug-73' 'Aug-70'\n",
      " 'Sep-69' 'Sep-75' 'Dec-68' 'Nov-54' 'Oct-69' 'Dec-65' 'Apr-72' 'Nov-72'\n",
      " 'Sep-63' 'Apr-69' 'Nov-62' 'Oct-67' 'May-67' 'Nov-61' 'Feb-67' 'Nov-68'\n",
      " 'Oct-75' 'Mar-71' 'Aug-71' 'Dec-66' 'Oct-68' 'Oct-74']\n",
      "inq_last_6mths   [1 5 2 0 3 4 6 7 8]\n",
      "open_acc   [ 3  2 10 15  9  7  4 11 14 12 20  8  6 17  5 13 16 30 21 18 19 27 23 34\n",
      " 25 22 24 26 32 28 29 33 31 39 35 36 38 44 41 42]\n",
      "pub_rec   [0 1 2 3 4]\n",
      "revol_bal   [13648  1687  2956 ... 27185 66033 85607]\n",
      "revol_util   ['83.70%' '9.40%' '98.50%' ... '49.63%' '0.04%' '7.28%']\n",
      "total_acc   [ 9  4 10 37 38 12 11 13  3 23 34 29 28 42 14 22 21 17  7 31 44 26 16  6\n",
      " 18 27 24 25 40 35  8 20 15 19 36 51 32 30 33 46  5 61 56 50 41 39 79 62\n",
      " 43 47 53 45 60 55 52 58 54 57 49 63 48 59 77 87 75 72 64 67 78 76 74 66\n",
      " 81 90 80 71 69 73 70 68 65  2]\n",
      "initial_list_status   ['f']\n",
      "out_prncp   [   0.    524.06 1849.1  ...   19.12   13.28   79.24]\n",
      "out_prncp_inv   [   0.    524.06 1844.43 ...   19.09   13.28   79.24]\n",
      "total_pymnt   [5863.155187 1008.71     3005.666844 ... 5272.161128 5174.198551\n",
      " 9195.263334]\n",
      "total_pymnt_inv   [5833.84 1008.71 3005.67 ... 1397.12  672.66  980.83]\n",
      "total_rec_prncp   [ 5000.     456.46  2400.   ...  2886.21   544.02 16077.42]\n",
      "total_rec_int   [ 863.16  435.17  605.67 ... 1413.49  174.2  1695.26]\n",
      "total_rec_late_fee   [ 0.         16.97       15.00000003 ...  1.69        1.36\n",
      " 19.89      ]\n",
      "recoveries   [  0.   117.08 189.06 ... 304.2   35.7   21.29]\n",
      "collection_recovery_fee   [0.0000e+00 1.1100e+00 2.0900e+00 ... 6.6836e+02 4.4425e+02 2.3000e-01]\n",
      "last_pymnt_d   ['Jan-15' 'Apr-13' 'Jun-14' 'May-16' 'Apr-12' 'Nov-12' 'Jun-13' 'Sep-13'\n",
      " 'Jul-12' 'Oct-13' 'May-13' 'Feb-15' 'Aug-15' 'Oct-12' 'Sep-12' nan\n",
      " 'Dec-12' 'Dec-14' 'Aug-13' 'Nov-13' 'Jan-14' 'Apr-14' 'Aug-14' 'Oct-14'\n",
      " 'Aug-12' 'Jul-14' 'Jul-13' 'Jan-16' 'Feb-16' 'Apr-15' 'Feb-14' 'Sep-14'\n",
      " 'Jun-12' 'Feb-13' 'Mar-13' 'May-14' 'Mar-15' 'Jan-13' 'Dec-13' 'Feb-12'\n",
      " 'Mar-14' 'Sep-15' 'Nov-15' 'Mar-16' 'Jan-12' 'Oct-15' 'Nov-14' 'Mar-12'\n",
      " 'May-12' 'Apr-16' 'Dec-15' 'Jun-15' 'May-15' 'Jul-15' 'Dec-11' 'Nov-11'\n",
      " 'Oct-11' 'Sep-11' 'Aug-11' 'Jul-11' 'Jun-11' 'May-11' 'Apr-11' 'Mar-11'\n",
      " 'Feb-11' 'Jan-11' 'Dec-10' 'Nov-10' 'Oct-10' 'Sep-10' 'Aug-10' 'Jul-10'\n",
      " 'Jun-10' 'May-10' 'Apr-10' 'Mar-10' 'Feb-10' 'Jan-10' 'Dec-09' 'Nov-09'\n",
      " 'Oct-09' 'Sep-09' 'Aug-09' 'Jul-09' 'Jun-09' 'May-09' 'Apr-09' 'Mar-09'\n",
      " 'Feb-09' 'Jan-09' 'Dec-08' 'Oct-08' 'Aug-08' 'Jul-08' 'Sep-08' 'Jun-08'\n",
      " 'May-08' 'Nov-08' 'Apr-08' 'Mar-08' 'Feb-08' 'Jan-08']\n",
      "last_pymnt_amnt   [171.62 119.66 649.91 ...  80.9  281.94 256.59]\n",
      "last_credit_pull_d   ['May-16' 'Sep-13' 'Apr-16' 'Jan-16' 'Dec-14' 'Aug-12' 'Mar-13' 'Dec-15'\n",
      " 'Aug-13' 'Nov-12' 'Mar-14' 'Apr-15' 'May-14' 'Jul-15' 'Feb-16' 'Mar-16'\n",
      " 'Sep-12' 'May-13' 'Jan-15' 'Jun-12' 'Mar-15' 'Dec-12' 'Sep-14' 'Feb-14'\n",
      " 'Jun-15' 'Oct-13' 'Apr-14' 'Oct-14' 'Feb-13' 'Nov-15' 'Jul-14' 'Sep-15'\n",
      " 'Oct-12' 'Nov-13' 'Nov-14' 'Feb-12' 'Oct-15' 'Apr-12' 'Aug-15' 'Jun-14'\n",
      " 'Jan-12' 'Aug-14' 'Jun-13' 'Dec-13' 'May-12' 'Jul-12' 'Jan-14' 'Jul-13'\n",
      " 'Apr-13' 'May-15' 'Feb-15' 'Mar-12' 'Nov-11' 'Dec-11' 'Jan-13' 'Oct-11'\n",
      " 'Sep-11' 'Aug-11' 'Jul-11' 'Jun-11' 'May-11' 'Apr-11' 'Mar-11' 'Feb-11'\n",
      " 'Jan-11' 'Dec-10' 'Nov-10' 'Oct-10' nan 'Sep-10' 'Aug-10' 'Jul-10'\n",
      " 'Jun-10' 'May-10' 'Apr-10' 'Feb-10' 'Mar-10' 'Aug-07' 'Jan-10' 'Dec-09'\n",
      " 'Nov-09' 'Oct-09' 'Sep-09' 'Jul-09' 'Aug-09' 'May-09' 'Jun-09' 'Apr-09'\n",
      " 'Mar-09' 'Feb-09' 'Jan-09' 'Dec-08' 'Jun-08' 'Sep-08' 'May-08' 'Aug-08'\n",
      " 'Mar-08' 'Oct-08' 'Feb-08' 'Jan-08' 'Dec-07' 'Jul-08' 'Oct-07' 'Sep-07'\n",
      " 'Jun-07' 'May-07' 'Jul-07']\n",
      "collections_12_mths_ex_med   [ 0. nan]\n",
      "policy_code   [1]\n",
      "application_type   ['INDIVIDUAL']\n",
      "acc_now_delinq   [0]\n",
      "chargeoff_within_12_mths   [ 0. nan]\n",
      "delinq_amnt   [0]\n",
      "pub_rec_bankruptcies   [ 0.  1.  2. nan]\n",
      "tax_liens   [ 0. nan]\n"
     ]
    }
   ],
   "source": [
    "##checking unique values in all columns\n",
    "for i in all_columns:\n",
    "    a=LoanDF[i].unique()\n",
    "    print (i,\" \",a)"
   ]
  },
  {
   "cell_type": "code",
   "execution_count": 22,
   "id": "15b4662c",
   "metadata": {
    "id": "15b4662c"
   },
   "outputs": [],
   "source": [
    "##dropping all column which has only one unique value as it will not give any insight\n",
    "LoanDF.drop(['collections_12_mths_ex_med','application_type','acc_now_delinq','chargeoff_within_12_mths','delinq_amnt','tax_liens','policy_code','initial_list_status','pymnt_plan'],axis=1,inplace=True)"
   ]
  },
  {
   "cell_type": "code",
   "execution_count": 23,
   "id": "a2581ab5",
   "metadata": {
    "colab": {
     "base_uri": "https://localhost:8080/",
     "height": 386
    },
    "id": "a2581ab5",
    "outputId": "a246422e-4973-4662-c514-f87f99c2ecd9"
   },
   "outputs": [
    {
     "data": {
      "text/html": [
       "<div>\n",
       "<style scoped>\n",
       "    .dataframe tbody tr th:only-of-type {\n",
       "        vertical-align: middle;\n",
       "    }\n",
       "\n",
       "    .dataframe tbody tr th {\n",
       "        vertical-align: top;\n",
       "    }\n",
       "\n",
       "    .dataframe thead th {\n",
       "        text-align: right;\n",
       "    }\n",
       "</style>\n",
       "<table border=\"1\" class=\"dataframe\">\n",
       "  <thead>\n",
       "    <tr style=\"text-align: right;\">\n",
       "      <th></th>\n",
       "      <th>id</th>\n",
       "      <th>member_id</th>\n",
       "      <th>loan_amnt</th>\n",
       "      <th>funded_amnt</th>\n",
       "      <th>funded_amnt_inv</th>\n",
       "      <th>term</th>\n",
       "      <th>int_rate</th>\n",
       "      <th>installment</th>\n",
       "      <th>grade</th>\n",
       "      <th>sub_grade</th>\n",
       "      <th>...</th>\n",
       "      <th>total_pymnt_inv</th>\n",
       "      <th>total_rec_prncp</th>\n",
       "      <th>total_rec_int</th>\n",
       "      <th>total_rec_late_fee</th>\n",
       "      <th>recoveries</th>\n",
       "      <th>collection_recovery_fee</th>\n",
       "      <th>last_pymnt_d</th>\n",
       "      <th>last_pymnt_amnt</th>\n",
       "      <th>last_credit_pull_d</th>\n",
       "      <th>pub_rec_bankruptcies</th>\n",
       "    </tr>\n",
       "  </thead>\n",
       "  <tbody>\n",
       "    <tr>\n",
       "      <th>0</th>\n",
       "      <td>1077501</td>\n",
       "      <td>1296599</td>\n",
       "      <td>5000</td>\n",
       "      <td>5000</td>\n",
       "      <td>4975.0</td>\n",
       "      <td>36 months</td>\n",
       "      <td>10.65%</td>\n",
       "      <td>162.87</td>\n",
       "      <td>B</td>\n",
       "      <td>B2</td>\n",
       "      <td>...</td>\n",
       "      <td>5833.84</td>\n",
       "      <td>5000.00</td>\n",
       "      <td>863.16</td>\n",
       "      <td>0.00</td>\n",
       "      <td>0.00</td>\n",
       "      <td>0.00</td>\n",
       "      <td>Jan-15</td>\n",
       "      <td>171.62</td>\n",
       "      <td>May-16</td>\n",
       "      <td>0.0</td>\n",
       "    </tr>\n",
       "    <tr>\n",
       "      <th>1</th>\n",
       "      <td>1077430</td>\n",
       "      <td>1314167</td>\n",
       "      <td>2500</td>\n",
       "      <td>2500</td>\n",
       "      <td>2500.0</td>\n",
       "      <td>60 months</td>\n",
       "      <td>15.27%</td>\n",
       "      <td>59.83</td>\n",
       "      <td>C</td>\n",
       "      <td>C4</td>\n",
       "      <td>...</td>\n",
       "      <td>1008.71</td>\n",
       "      <td>456.46</td>\n",
       "      <td>435.17</td>\n",
       "      <td>0.00</td>\n",
       "      <td>117.08</td>\n",
       "      <td>1.11</td>\n",
       "      <td>Apr-13</td>\n",
       "      <td>119.66</td>\n",
       "      <td>Sep-13</td>\n",
       "      <td>0.0</td>\n",
       "    </tr>\n",
       "    <tr>\n",
       "      <th>2</th>\n",
       "      <td>1077175</td>\n",
       "      <td>1313524</td>\n",
       "      <td>2400</td>\n",
       "      <td>2400</td>\n",
       "      <td>2400.0</td>\n",
       "      <td>36 months</td>\n",
       "      <td>15.96%</td>\n",
       "      <td>84.33</td>\n",
       "      <td>C</td>\n",
       "      <td>C5</td>\n",
       "      <td>...</td>\n",
       "      <td>3005.67</td>\n",
       "      <td>2400.00</td>\n",
       "      <td>605.67</td>\n",
       "      <td>0.00</td>\n",
       "      <td>0.00</td>\n",
       "      <td>0.00</td>\n",
       "      <td>Jun-14</td>\n",
       "      <td>649.91</td>\n",
       "      <td>May-16</td>\n",
       "      <td>0.0</td>\n",
       "    </tr>\n",
       "    <tr>\n",
       "      <th>3</th>\n",
       "      <td>1076863</td>\n",
       "      <td>1277178</td>\n",
       "      <td>10000</td>\n",
       "      <td>10000</td>\n",
       "      <td>10000.0</td>\n",
       "      <td>36 months</td>\n",
       "      <td>13.49%</td>\n",
       "      <td>339.31</td>\n",
       "      <td>C</td>\n",
       "      <td>C1</td>\n",
       "      <td>...</td>\n",
       "      <td>12231.89</td>\n",
       "      <td>10000.00</td>\n",
       "      <td>2214.92</td>\n",
       "      <td>16.97</td>\n",
       "      <td>0.00</td>\n",
       "      <td>0.00</td>\n",
       "      <td>Jan-15</td>\n",
       "      <td>357.48</td>\n",
       "      <td>Apr-16</td>\n",
       "      <td>0.0</td>\n",
       "    </tr>\n",
       "    <tr>\n",
       "      <th>4</th>\n",
       "      <td>1075358</td>\n",
       "      <td>1311748</td>\n",
       "      <td>3000</td>\n",
       "      <td>3000</td>\n",
       "      <td>3000.0</td>\n",
       "      <td>60 months</td>\n",
       "      <td>12.69%</td>\n",
       "      <td>67.79</td>\n",
       "      <td>B</td>\n",
       "      <td>B5</td>\n",
       "      <td>...</td>\n",
       "      <td>3513.33</td>\n",
       "      <td>2475.94</td>\n",
       "      <td>1037.39</td>\n",
       "      <td>0.00</td>\n",
       "      <td>0.00</td>\n",
       "      <td>0.00</td>\n",
       "      <td>May-16</td>\n",
       "      <td>67.79</td>\n",
       "      <td>May-16</td>\n",
       "      <td>0.0</td>\n",
       "    </tr>\n",
       "  </tbody>\n",
       "</table>\n",
       "<p>5 rows × 44 columns</p>\n",
       "</div>"
      ],
      "text/plain": [
       "        id  member_id  loan_amnt  funded_amnt  funded_amnt_inv        term  \\\n",
       "0  1077501    1296599       5000         5000           4975.0   36 months   \n",
       "1  1077430    1314167       2500         2500           2500.0   60 months   \n",
       "2  1077175    1313524       2400         2400           2400.0   36 months   \n",
       "3  1076863    1277178      10000        10000          10000.0   36 months   \n",
       "4  1075358    1311748       3000         3000           3000.0   60 months   \n",
       "\n",
       "  int_rate  installment grade sub_grade  ... total_pymnt_inv total_rec_prncp  \\\n",
       "0   10.65%       162.87     B        B2  ...         5833.84         5000.00   \n",
       "1   15.27%        59.83     C        C4  ...         1008.71          456.46   \n",
       "2   15.96%        84.33     C        C5  ...         3005.67         2400.00   \n",
       "3   13.49%       339.31     C        C1  ...        12231.89        10000.00   \n",
       "4   12.69%        67.79     B        B5  ...         3513.33         2475.94   \n",
       "\n",
       "  total_rec_int  total_rec_late_fee recoveries collection_recovery_fee  \\\n",
       "0        863.16                0.00       0.00                    0.00   \n",
       "1        435.17                0.00     117.08                    1.11   \n",
       "2        605.67                0.00       0.00                    0.00   \n",
       "3       2214.92               16.97       0.00                    0.00   \n",
       "4       1037.39                0.00       0.00                    0.00   \n",
       "\n",
       "  last_pymnt_d last_pymnt_amnt last_credit_pull_d pub_rec_bankruptcies  \n",
       "0       Jan-15          171.62             May-16                  0.0  \n",
       "1       Apr-13          119.66             Sep-13                  0.0  \n",
       "2       Jun-14          649.91             May-16                  0.0  \n",
       "3       Jan-15          357.48             Apr-16                  0.0  \n",
       "4       May-16           67.79             May-16                  0.0  \n",
       "\n",
       "[5 rows x 44 columns]"
      ]
     },
     "execution_count": 23,
     "metadata": {},
     "output_type": "execute_result"
    }
   ],
   "source": [
    "#checking duplicate values in id and member id\n",
    "LoanDF.head()"
   ]
  },
  {
   "cell_type": "code",
   "execution_count": 24,
   "id": "233f38d4",
   "metadata": {
    "colab": {
     "base_uri": "https://localhost:8080/"
    },
    "id": "233f38d4",
    "outputId": "8a95f2df-f6be-4f7f-ae9e-bb5aa62106ee"
   },
   "outputs": [
    {
     "data": {
      "text/plain": [
       "(39717, 44)"
      ]
     },
     "execution_count": 24,
     "metadata": {},
     "output_type": "execute_result"
    }
   ],
   "source": [
    "LoanDF.shape"
   ]
  },
  {
   "cell_type": "code",
   "execution_count": 90,
   "id": "e943ce28",
   "metadata": {
    "id": "e943ce28"
   },
   "outputs": [],
   "source": [
    "##converting emp_length column values into numerical type\n",
    "LoanDF.emp_length=LoanDF.emp_length.str.extract('(\\d+)')\n",
    "LoanDF.emp_length.replace(np.nan,0,inplace=True)\n",
    "LoanDF.emp_length=LoanDF.emp_length.astype(int)"
   ]
  },
  {
   "cell_type": "code",
   "execution_count": 91,
   "id": "cffeed53",
   "metadata": {
    "colab": {
     "base_uri": "https://localhost:8080/"
    },
    "id": "cffeed53",
    "outputId": "cc983f66-fb76-4d1f-eab6-4d2bba199d42"
   },
   "outputs": [
    {
     "data": {
      "text/plain": [
       "array([10,  1,  3,  8,  9,  4,  5,  6,  2,  7,  0])"
      ]
     },
     "execution_count": 91,
     "metadata": {},
     "output_type": "execute_result"
    }
   ],
   "source": [
    "LoanDF.emp_length.unique()"
   ]
  },
  {
   "cell_type": "code",
   "execution_count": 27,
   "id": "11861bc1",
   "metadata": {
    "id": "11861bc1"
   },
   "outputs": [],
   "source": [
    "##removing % symbol in interest rate so that we can perform numerical operations on it\n",
    "LoanDF.int_rate=LoanDF.int_rate.str.rstrip('%').astype(float)"
   ]
  },
  {
   "cell_type": "code",
   "execution_count": 28,
   "id": "efb04992",
   "metadata": {},
   "outputs": [],
   "source": [
    "LoanDF.revol_util=LoanDF.revol_util.str.rstrip('%').astype(float)"
   ]
  },
  {
   "cell_type": "code",
   "execution_count": 29,
   "id": "b3098ca8",
   "metadata": {
    "colab": {
     "base_uri": "https://localhost:8080/",
     "height": 386
    },
    "id": "b3098ca8",
    "outputId": "23d21786-55c8-449b-d010-19cc6102b6d3"
   },
   "outputs": [
    {
     "data": {
      "text/html": [
       "<div>\n",
       "<style scoped>\n",
       "    .dataframe tbody tr th:only-of-type {\n",
       "        vertical-align: middle;\n",
       "    }\n",
       "\n",
       "    .dataframe tbody tr th {\n",
       "        vertical-align: top;\n",
       "    }\n",
       "\n",
       "    .dataframe thead th {\n",
       "        text-align: right;\n",
       "    }\n",
       "</style>\n",
       "<table border=\"1\" class=\"dataframe\">\n",
       "  <thead>\n",
       "    <tr style=\"text-align: right;\">\n",
       "      <th></th>\n",
       "      <th>id</th>\n",
       "      <th>member_id</th>\n",
       "      <th>loan_amnt</th>\n",
       "      <th>funded_amnt</th>\n",
       "      <th>funded_amnt_inv</th>\n",
       "      <th>term</th>\n",
       "      <th>int_rate</th>\n",
       "      <th>installment</th>\n",
       "      <th>grade</th>\n",
       "      <th>sub_grade</th>\n",
       "      <th>...</th>\n",
       "      <th>total_pymnt_inv</th>\n",
       "      <th>total_rec_prncp</th>\n",
       "      <th>total_rec_int</th>\n",
       "      <th>total_rec_late_fee</th>\n",
       "      <th>recoveries</th>\n",
       "      <th>collection_recovery_fee</th>\n",
       "      <th>last_pymnt_d</th>\n",
       "      <th>last_pymnt_amnt</th>\n",
       "      <th>last_credit_pull_d</th>\n",
       "      <th>pub_rec_bankruptcies</th>\n",
       "    </tr>\n",
       "  </thead>\n",
       "  <tbody>\n",
       "    <tr>\n",
       "      <th>0</th>\n",
       "      <td>1077501</td>\n",
       "      <td>1296599</td>\n",
       "      <td>5000</td>\n",
       "      <td>5000</td>\n",
       "      <td>4975.0</td>\n",
       "      <td>36 months</td>\n",
       "      <td>10.65</td>\n",
       "      <td>162.87</td>\n",
       "      <td>B</td>\n",
       "      <td>B2</td>\n",
       "      <td>...</td>\n",
       "      <td>5833.84</td>\n",
       "      <td>5000.00</td>\n",
       "      <td>863.16</td>\n",
       "      <td>0.00</td>\n",
       "      <td>0.00</td>\n",
       "      <td>0.00</td>\n",
       "      <td>Jan-15</td>\n",
       "      <td>171.62</td>\n",
       "      <td>May-16</td>\n",
       "      <td>0.0</td>\n",
       "    </tr>\n",
       "    <tr>\n",
       "      <th>1</th>\n",
       "      <td>1077430</td>\n",
       "      <td>1314167</td>\n",
       "      <td>2500</td>\n",
       "      <td>2500</td>\n",
       "      <td>2500.0</td>\n",
       "      <td>60 months</td>\n",
       "      <td>15.27</td>\n",
       "      <td>59.83</td>\n",
       "      <td>C</td>\n",
       "      <td>C4</td>\n",
       "      <td>...</td>\n",
       "      <td>1008.71</td>\n",
       "      <td>456.46</td>\n",
       "      <td>435.17</td>\n",
       "      <td>0.00</td>\n",
       "      <td>117.08</td>\n",
       "      <td>1.11</td>\n",
       "      <td>Apr-13</td>\n",
       "      <td>119.66</td>\n",
       "      <td>Sep-13</td>\n",
       "      <td>0.0</td>\n",
       "    </tr>\n",
       "    <tr>\n",
       "      <th>2</th>\n",
       "      <td>1077175</td>\n",
       "      <td>1313524</td>\n",
       "      <td>2400</td>\n",
       "      <td>2400</td>\n",
       "      <td>2400.0</td>\n",
       "      <td>36 months</td>\n",
       "      <td>15.96</td>\n",
       "      <td>84.33</td>\n",
       "      <td>C</td>\n",
       "      <td>C5</td>\n",
       "      <td>...</td>\n",
       "      <td>3005.67</td>\n",
       "      <td>2400.00</td>\n",
       "      <td>605.67</td>\n",
       "      <td>0.00</td>\n",
       "      <td>0.00</td>\n",
       "      <td>0.00</td>\n",
       "      <td>Jun-14</td>\n",
       "      <td>649.91</td>\n",
       "      <td>May-16</td>\n",
       "      <td>0.0</td>\n",
       "    </tr>\n",
       "    <tr>\n",
       "      <th>3</th>\n",
       "      <td>1076863</td>\n",
       "      <td>1277178</td>\n",
       "      <td>10000</td>\n",
       "      <td>10000</td>\n",
       "      <td>10000.0</td>\n",
       "      <td>36 months</td>\n",
       "      <td>13.49</td>\n",
       "      <td>339.31</td>\n",
       "      <td>C</td>\n",
       "      <td>C1</td>\n",
       "      <td>...</td>\n",
       "      <td>12231.89</td>\n",
       "      <td>10000.00</td>\n",
       "      <td>2214.92</td>\n",
       "      <td>16.97</td>\n",
       "      <td>0.00</td>\n",
       "      <td>0.00</td>\n",
       "      <td>Jan-15</td>\n",
       "      <td>357.48</td>\n",
       "      <td>Apr-16</td>\n",
       "      <td>0.0</td>\n",
       "    </tr>\n",
       "    <tr>\n",
       "      <th>4</th>\n",
       "      <td>1075358</td>\n",
       "      <td>1311748</td>\n",
       "      <td>3000</td>\n",
       "      <td>3000</td>\n",
       "      <td>3000.0</td>\n",
       "      <td>60 months</td>\n",
       "      <td>12.69</td>\n",
       "      <td>67.79</td>\n",
       "      <td>B</td>\n",
       "      <td>B5</td>\n",
       "      <td>...</td>\n",
       "      <td>3513.33</td>\n",
       "      <td>2475.94</td>\n",
       "      <td>1037.39</td>\n",
       "      <td>0.00</td>\n",
       "      <td>0.00</td>\n",
       "      <td>0.00</td>\n",
       "      <td>May-16</td>\n",
       "      <td>67.79</td>\n",
       "      <td>May-16</td>\n",
       "      <td>0.0</td>\n",
       "    </tr>\n",
       "  </tbody>\n",
       "</table>\n",
       "<p>5 rows × 44 columns</p>\n",
       "</div>"
      ],
      "text/plain": [
       "        id  member_id  loan_amnt  funded_amnt  funded_amnt_inv        term  \\\n",
       "0  1077501    1296599       5000         5000           4975.0   36 months   \n",
       "1  1077430    1314167       2500         2500           2500.0   60 months   \n",
       "2  1077175    1313524       2400         2400           2400.0   36 months   \n",
       "3  1076863    1277178      10000        10000          10000.0   36 months   \n",
       "4  1075358    1311748       3000         3000           3000.0   60 months   \n",
       "\n",
       "   int_rate  installment grade sub_grade  ... total_pymnt_inv total_rec_prncp  \\\n",
       "0     10.65       162.87     B        B2  ...         5833.84         5000.00   \n",
       "1     15.27        59.83     C        C4  ...         1008.71          456.46   \n",
       "2     15.96        84.33     C        C5  ...         3005.67         2400.00   \n",
       "3     13.49       339.31     C        C1  ...        12231.89        10000.00   \n",
       "4     12.69        67.79     B        B5  ...         3513.33         2475.94   \n",
       "\n",
       "  total_rec_int  total_rec_late_fee recoveries collection_recovery_fee  \\\n",
       "0        863.16                0.00       0.00                    0.00   \n",
       "1        435.17                0.00     117.08                    1.11   \n",
       "2        605.67                0.00       0.00                    0.00   \n",
       "3       2214.92               16.97       0.00                    0.00   \n",
       "4       1037.39                0.00       0.00                    0.00   \n",
       "\n",
       "  last_pymnt_d last_pymnt_amnt last_credit_pull_d pub_rec_bankruptcies  \n",
       "0       Jan-15          171.62             May-16                  0.0  \n",
       "1       Apr-13          119.66             Sep-13                  0.0  \n",
       "2       Jun-14          649.91             May-16                  0.0  \n",
       "3       Jan-15          357.48             Apr-16                  0.0  \n",
       "4       May-16           67.79             May-16                  0.0  \n",
       "\n",
       "[5 rows x 44 columns]"
      ]
     },
     "execution_count": 29,
     "metadata": {},
     "output_type": "execute_result"
    }
   ],
   "source": [
    "LoanDF.head()"
   ]
  },
  {
   "cell_type": "code",
   "execution_count": 30,
   "id": "5549e879",
   "metadata": {
    "colab": {
     "base_uri": "https://localhost:8080/"
    },
    "id": "5549e879",
    "outputId": "59ad794e-f2f6-4560-e09f-7ce11d361bb9"
   },
   "outputs": [
    {
     "data": {
      "text/plain": [
       "(39717, 44)"
      ]
     },
     "execution_count": 30,
     "metadata": {},
     "output_type": "execute_result"
    }
   ],
   "source": [
    "LoanDF.shape"
   ]
  },
  {
   "cell_type": "code",
   "execution_count": 31,
   "id": "f0b9e022",
   "metadata": {
    "colab": {
     "base_uri": "https://localhost:8080/"
    },
    "id": "f0b9e022",
    "outputId": "5ea5b787-f47a-43b0-af5a-927e2fa79ce6"
   },
   "outputs": [
    {
     "data": {
      "text/plain": [
       "Index(['id', 'member_id', 'loan_amnt', 'funded_amnt', 'funded_amnt_inv',\n",
       "       'term', 'int_rate', 'installment', 'grade', 'sub_grade', 'emp_title',\n",
       "       'emp_length', 'home_ownership', 'annual_inc', 'verification_status',\n",
       "       'issue_d', 'loan_status', 'url', 'purpose', 'title', 'zip_code',\n",
       "       'addr_state', 'dti', 'delinq_2yrs', 'earliest_cr_line',\n",
       "       'inq_last_6mths', 'open_acc', 'pub_rec', 'revol_bal', 'revol_util',\n",
       "       'total_acc', 'out_prncp', 'out_prncp_inv', 'total_pymnt',\n",
       "       'total_pymnt_inv', 'total_rec_prncp', 'total_rec_int',\n",
       "       'total_rec_late_fee', 'recoveries', 'collection_recovery_fee',\n",
       "       'last_pymnt_d', 'last_pymnt_amnt', 'last_credit_pull_d',\n",
       "       'pub_rec_bankruptcies'],\n",
       "      dtype='object')"
      ]
     },
     "execution_count": 31,
     "metadata": {},
     "output_type": "execute_result"
    }
   ],
   "source": [
    "LoanDF.columns"
   ]
  },
  {
   "cell_type": "code",
   "execution_count": 32,
   "id": "ced44275",
   "metadata": {
    "colab": {
     "base_uri": "https://localhost:8080/"
    },
    "id": "ced44275",
    "outputId": "dea1e08c-77d2-4160-ef7a-64de6c58705c"
   },
   "outputs": [
    {
     "data": {
      "text/plain": [
       "array(['RENT', 'OWN', 'MORTGAGE', 'OTHER', 'NONE'], dtype=object)"
      ]
     },
     "execution_count": 32,
     "metadata": {},
     "output_type": "execute_result"
    }
   ],
   "source": [
    "LoanDF.home_ownership.unique()"
   ]
  },
  {
   "cell_type": "code",
   "execution_count": 33,
   "id": "2a33c75e",
   "metadata": {
    "colab": {
     "base_uri": "https://localhost:8080/"
    },
    "id": "2a33c75e",
    "outputId": "faa8cbef-0e12-4e8c-a89b-08bfbb34bf37"
   },
   "outputs": [
    {
     "data": {
      "text/plain": [
       "3"
      ]
     },
     "execution_count": 33,
     "metadata": {},
     "output_type": "execute_result"
    }
   ],
   "source": [
    "#replacing 'NONE' values in home_ownership by 'OTHER'\n",
    "(LoanDF.home_ownership=='NONE').sum()"
   ]
  },
  {
   "cell_type": "code",
   "execution_count": 34,
   "id": "10204ec2",
   "metadata": {
    "id": "10204ec2"
   },
   "outputs": [],
   "source": [
    "LoanDF.home_ownership.replace('NONE','OTHER',inplace=True)"
   ]
  },
  {
   "cell_type": "code",
   "execution_count": 35,
   "id": "1d011dae",
   "metadata": {
    "colab": {
     "base_uri": "https://localhost:8080/"
    },
    "id": "1d011dae",
    "outputId": "90ee6f12-144e-457f-9082-37feb891810d"
   },
   "outputs": [
    {
     "data": {
      "text/plain": [
       "array(['RENT', 'OWN', 'MORTGAGE', 'OTHER'], dtype=object)"
      ]
     },
     "execution_count": 35,
     "metadata": {},
     "output_type": "execute_result"
    }
   ],
   "source": [
    "LoanDF.home_ownership.unique()"
   ]
  },
  {
   "cell_type": "code",
   "execution_count": 36,
   "id": "7f578d32",
   "metadata": {},
   "outputs": [
    {
     "data": {
      "text/plain": [
       "array([nan, 'Ryder', 'AIR RESOURCES BOARD', ..., 'FiSite Research',\n",
       "       'Squarewave Solutions, Ltd.', 'Evergreen Center'], dtype=object)"
      ]
     },
     "execution_count": 36,
     "metadata": {},
     "output_type": "execute_result"
    }
   ],
   "source": [
    "LoanDF.emp_title.unique()"
   ]
  },
  {
   "cell_type": "code",
   "execution_count": 37,
   "id": "RKNW1W_X0YgM",
   "metadata": {
    "id": "RKNW1W_X0YgM"
   },
   "outputs": [],
   "source": [
    "##categorising types of useful variables\n",
    "unique_id=['id','member_id']\n",
    "unordered_cat=['home_ownership','verification_status','loan_status','emp_title','title','purpose']\n",
    "ordered_cat=['term','grade','sub_grade','issue_d','earliest_cr_line','last_pymnt_d','last_credit_pull_d']\n",
    "continuous=['loan_amnt','delinq_2yrs','funded_amnt','funded_amnt_inv','int_rate','installment','dti','inq_last_6mths','annual_inc','revol_bal','revol_util','total_acc','out_prncp','out_prncp_inv','total_pymnt','total_pymnt_inv','total_rec_int','total_rec_prncp','total_rec_late_fee','recoveries','collection_recovery_fee','last_pymnt_amnt','open_acc']"
   ]
  },
  {
   "cell_type": "code",
   "execution_count": 38,
   "id": "40c46c9c",
   "metadata": {
    "colab": {
     "base_uri": "https://localhost:8080/"
    },
    "id": "40c46c9c",
    "outputId": "37037076-32de-4708-a34a-bd8c2f9bf08c"
   },
   "outputs": [
    {
     "name": "stdout",
     "output_type": "stream",
     "text": [
      "<class 'pandas.core.frame.DataFrame'>\n",
      "RangeIndex: 39717 entries, 0 to 39716\n",
      "Data columns (total 44 columns):\n",
      " #   Column                   Non-Null Count  Dtype  \n",
      "---  ------                   --------------  -----  \n",
      " 0   id                       39717 non-null  int64  \n",
      " 1   member_id                39717 non-null  int64  \n",
      " 2   loan_amnt                39717 non-null  int64  \n",
      " 3   funded_amnt              39717 non-null  int64  \n",
      " 4   funded_amnt_inv          39717 non-null  float64\n",
      " 5   term                     39717 non-null  object \n",
      " 6   int_rate                 39717 non-null  float64\n",
      " 7   installment              39717 non-null  float64\n",
      " 8   grade                    39717 non-null  object \n",
      " 9   sub_grade                39717 non-null  object \n",
      " 10  emp_title                37258 non-null  object \n",
      " 11  emp_length               38642 non-null  object \n",
      " 12  home_ownership           39717 non-null  object \n",
      " 13  annual_inc               39717 non-null  float64\n",
      " 14  verification_status      39717 non-null  object \n",
      " 15  issue_d                  39717 non-null  object \n",
      " 16  loan_status              39717 non-null  object \n",
      " 17  url                      39717 non-null  object \n",
      " 18  purpose                  39717 non-null  object \n",
      " 19  title                    39706 non-null  object \n",
      " 20  zip_code                 39717 non-null  object \n",
      " 21  addr_state               39717 non-null  object \n",
      " 22  dti                      39717 non-null  float64\n",
      " 23  delinq_2yrs              39717 non-null  int64  \n",
      " 24  earliest_cr_line         39717 non-null  object \n",
      " 25  inq_last_6mths           39717 non-null  int64  \n",
      " 26  open_acc                 39717 non-null  int64  \n",
      " 27  pub_rec                  39717 non-null  int64  \n",
      " 28  revol_bal                39717 non-null  int64  \n",
      " 29  revol_util               39667 non-null  float64\n",
      " 30  total_acc                39717 non-null  int64  \n",
      " 31  out_prncp                39717 non-null  float64\n",
      " 32  out_prncp_inv            39717 non-null  float64\n",
      " 33  total_pymnt              39717 non-null  float64\n",
      " 34  total_pymnt_inv          39717 non-null  float64\n",
      " 35  total_rec_prncp          39717 non-null  float64\n",
      " 36  total_rec_int            39717 non-null  float64\n",
      " 37  total_rec_late_fee       39717 non-null  float64\n",
      " 38  recoveries               39717 non-null  float64\n",
      " 39  collection_recovery_fee  39717 non-null  float64\n",
      " 40  last_pymnt_d             39646 non-null  object \n",
      " 41  last_pymnt_amnt          39717 non-null  float64\n",
      " 42  last_credit_pull_d       39715 non-null  object \n",
      " 43  pub_rec_bankruptcies     39020 non-null  float64\n",
      "dtypes: float64(17), int64(10), object(17)\n",
      "memory usage: 13.3+ MB\n"
     ]
    }
   ],
   "source": [
    "LoanDF.info()"
   ]
  },
  {
   "cell_type": "code",
   "execution_count": 39,
   "id": "7aea96a1",
   "metadata": {
    "colab": {
     "base_uri": "https://localhost:8080/",
     "height": 394
    },
    "id": "7aea96a1",
    "outputId": "3dff215d-38cb-4edf-d88b-193f35ad2920"
   },
   "outputs": [
    {
     "data": {
      "text/html": [
       "<div>\n",
       "<style scoped>\n",
       "    .dataframe tbody tr th:only-of-type {\n",
       "        vertical-align: middle;\n",
       "    }\n",
       "\n",
       "    .dataframe tbody tr th {\n",
       "        vertical-align: top;\n",
       "    }\n",
       "\n",
       "    .dataframe thead th {\n",
       "        text-align: right;\n",
       "    }\n",
       "</style>\n",
       "<table border=\"1\" class=\"dataframe\">\n",
       "  <thead>\n",
       "    <tr style=\"text-align: right;\">\n",
       "      <th></th>\n",
       "      <th>id</th>\n",
       "      <th>member_id</th>\n",
       "      <th>loan_amnt</th>\n",
       "      <th>funded_amnt</th>\n",
       "      <th>funded_amnt_inv</th>\n",
       "      <th>int_rate</th>\n",
       "      <th>installment</th>\n",
       "      <th>annual_inc</th>\n",
       "      <th>dti</th>\n",
       "      <th>delinq_2yrs</th>\n",
       "      <th>...</th>\n",
       "      <th>out_prncp_inv</th>\n",
       "      <th>total_pymnt</th>\n",
       "      <th>total_pymnt_inv</th>\n",
       "      <th>total_rec_prncp</th>\n",
       "      <th>total_rec_int</th>\n",
       "      <th>total_rec_late_fee</th>\n",
       "      <th>recoveries</th>\n",
       "      <th>collection_recovery_fee</th>\n",
       "      <th>last_pymnt_amnt</th>\n",
       "      <th>pub_rec_bankruptcies</th>\n",
       "    </tr>\n",
       "  </thead>\n",
       "  <tbody>\n",
       "    <tr>\n",
       "      <th>count</th>\n",
       "      <td>39717</td>\n",
       "      <td>39717</td>\n",
       "      <td>39717</td>\n",
       "      <td>39717</td>\n",
       "      <td>39717</td>\n",
       "      <td>39717</td>\n",
       "      <td>39717</td>\n",
       "      <td>39717</td>\n",
       "      <td>39717</td>\n",
       "      <td>39717</td>\n",
       "      <td>...</td>\n",
       "      <td>39717</td>\n",
       "      <td>39717</td>\n",
       "      <td>39717</td>\n",
       "      <td>39717</td>\n",
       "      <td>39717</td>\n",
       "      <td>39717</td>\n",
       "      <td>39717</td>\n",
       "      <td>39717</td>\n",
       "      <td>39717</td>\n",
       "      <td>39020</td>\n",
       "    </tr>\n",
       "    <tr>\n",
       "      <th>mean</th>\n",
       "      <td>683131</td>\n",
       "      <td>850463</td>\n",
       "      <td>11219</td>\n",
       "      <td>10947</td>\n",
       "      <td>10397</td>\n",
       "      <td>12</td>\n",
       "      <td>324</td>\n",
       "      <td>68968</td>\n",
       "      <td>13</td>\n",
       "      <td>0</td>\n",
       "      <td>...</td>\n",
       "      <td>50</td>\n",
       "      <td>12153</td>\n",
       "      <td>11567</td>\n",
       "      <td>9793</td>\n",
       "      <td>2263</td>\n",
       "      <td>1</td>\n",
       "      <td>95</td>\n",
       "      <td>12</td>\n",
       "      <td>2678</td>\n",
       "      <td>0</td>\n",
       "    </tr>\n",
       "    <tr>\n",
       "      <th>std</th>\n",
       "      <td>210694</td>\n",
       "      <td>265678</td>\n",
       "      <td>7456</td>\n",
       "      <td>7187</td>\n",
       "      <td>7128</td>\n",
       "      <td>3</td>\n",
       "      <td>208</td>\n",
       "      <td>63793</td>\n",
       "      <td>6</td>\n",
       "      <td>0</td>\n",
       "      <td>...</td>\n",
       "      <td>373</td>\n",
       "      <td>9042</td>\n",
       "      <td>8942</td>\n",
       "      <td>7065</td>\n",
       "      <td>2608</td>\n",
       "      <td>7</td>\n",
       "      <td>688</td>\n",
       "      <td>148</td>\n",
       "      <td>4447</td>\n",
       "      <td>0</td>\n",
       "    </tr>\n",
       "    <tr>\n",
       "      <th>min</th>\n",
       "      <td>54734</td>\n",
       "      <td>70699</td>\n",
       "      <td>500</td>\n",
       "      <td>500</td>\n",
       "      <td>0</td>\n",
       "      <td>5</td>\n",
       "      <td>15</td>\n",
       "      <td>4000</td>\n",
       "      <td>0</td>\n",
       "      <td>0</td>\n",
       "      <td>...</td>\n",
       "      <td>0</td>\n",
       "      <td>0</td>\n",
       "      <td>0</td>\n",
       "      <td>0</td>\n",
       "      <td>0</td>\n",
       "      <td>0</td>\n",
       "      <td>0</td>\n",
       "      <td>0</td>\n",
       "      <td>0</td>\n",
       "      <td>0</td>\n",
       "    </tr>\n",
       "    <tr>\n",
       "      <th>25%</th>\n",
       "      <td>516221</td>\n",
       "      <td>666780</td>\n",
       "      <td>5500</td>\n",
       "      <td>5400</td>\n",
       "      <td>5000</td>\n",
       "      <td>9</td>\n",
       "      <td>167</td>\n",
       "      <td>40404</td>\n",
       "      <td>8</td>\n",
       "      <td>0</td>\n",
       "      <td>...</td>\n",
       "      <td>0</td>\n",
       "      <td>5576</td>\n",
       "      <td>5112</td>\n",
       "      <td>4600</td>\n",
       "      <td>662</td>\n",
       "      <td>0</td>\n",
       "      <td>0</td>\n",
       "      <td>0</td>\n",
       "      <td>218</td>\n",
       "      <td>0</td>\n",
       "    </tr>\n",
       "    <tr>\n",
       "      <th>50%</th>\n",
       "      <td>665665</td>\n",
       "      <td>850812</td>\n",
       "      <td>10000</td>\n",
       "      <td>9600</td>\n",
       "      <td>8975</td>\n",
       "      <td>11</td>\n",
       "      <td>280</td>\n",
       "      <td>59000</td>\n",
       "      <td>13</td>\n",
       "      <td>0</td>\n",
       "      <td>...</td>\n",
       "      <td>0</td>\n",
       "      <td>9899</td>\n",
       "      <td>9287</td>\n",
       "      <td>8000</td>\n",
       "      <td>1348</td>\n",
       "      <td>0</td>\n",
       "      <td>0</td>\n",
       "      <td>0</td>\n",
       "      <td>546</td>\n",
       "      <td>0</td>\n",
       "    </tr>\n",
       "    <tr>\n",
       "      <th>75%</th>\n",
       "      <td>837755</td>\n",
       "      <td>1047339</td>\n",
       "      <td>15000</td>\n",
       "      <td>15000</td>\n",
       "      <td>14400</td>\n",
       "      <td>14</td>\n",
       "      <td>430</td>\n",
       "      <td>82300</td>\n",
       "      <td>18</td>\n",
       "      <td>0</td>\n",
       "      <td>...</td>\n",
       "      <td>0</td>\n",
       "      <td>16534</td>\n",
       "      <td>15798</td>\n",
       "      <td>13653</td>\n",
       "      <td>2833</td>\n",
       "      <td>0</td>\n",
       "      <td>0</td>\n",
       "      <td>0</td>\n",
       "      <td>3293</td>\n",
       "      <td>0</td>\n",
       "    </tr>\n",
       "    <tr>\n",
       "      <th>max</th>\n",
       "      <td>1077501</td>\n",
       "      <td>1314167</td>\n",
       "      <td>35000</td>\n",
       "      <td>35000</td>\n",
       "      <td>35000</td>\n",
       "      <td>24</td>\n",
       "      <td>1305</td>\n",
       "      <td>6000000</td>\n",
       "      <td>29</td>\n",
       "      <td>11</td>\n",
       "      <td>...</td>\n",
       "      <td>6307</td>\n",
       "      <td>58563</td>\n",
       "      <td>58563</td>\n",
       "      <td>35000</td>\n",
       "      <td>23563</td>\n",
       "      <td>180</td>\n",
       "      <td>29623</td>\n",
       "      <td>7002</td>\n",
       "      <td>36115</td>\n",
       "      <td>2</td>\n",
       "    </tr>\n",
       "  </tbody>\n",
       "</table>\n",
       "<p>8 rows × 27 columns</p>\n",
       "</div>"
      ],
      "text/plain": [
       "            id  member_id  loan_amnt  funded_amnt  funded_amnt_inv  int_rate  \\\n",
       "count    39717      39717      39717        39717            39717     39717   \n",
       "mean    683131     850463      11219        10947            10397        12   \n",
       "std     210694     265678       7456         7187             7128         3   \n",
       "min      54734      70699        500          500                0         5   \n",
       "25%     516221     666780       5500         5400             5000         9   \n",
       "50%     665665     850812      10000         9600             8975        11   \n",
       "75%     837755    1047339      15000        15000            14400        14   \n",
       "max    1077501    1314167      35000        35000            35000        24   \n",
       "\n",
       "       installment  annual_inc    dti  delinq_2yrs  ...  out_prncp_inv  \\\n",
       "count        39717       39717  39717        39717  ...          39717   \n",
       "mean           324       68968     13            0  ...             50   \n",
       "std            208       63793      6            0  ...            373   \n",
       "min             15        4000      0            0  ...              0   \n",
       "25%            167       40404      8            0  ...              0   \n",
       "50%            280       59000     13            0  ...              0   \n",
       "75%            430       82300     18            0  ...              0   \n",
       "max           1305     6000000     29           11  ...           6307   \n",
       "\n",
       "       total_pymnt  total_pymnt_inv  total_rec_prncp  total_rec_int  \\\n",
       "count        39717            39717            39717          39717   \n",
       "mean         12153            11567             9793           2263   \n",
       "std           9042             8942             7065           2608   \n",
       "min              0                0                0              0   \n",
       "25%           5576             5112             4600            662   \n",
       "50%           9899             9287             8000           1348   \n",
       "75%          16534            15798            13653           2833   \n",
       "max          58563            58563            35000          23563   \n",
       "\n",
       "       total_rec_late_fee  recoveries  collection_recovery_fee  \\\n",
       "count               39717       39717                    39717   \n",
       "mean                    1          95                       12   \n",
       "std                     7         688                      148   \n",
       "min                     0           0                        0   \n",
       "25%                     0           0                        0   \n",
       "50%                     0           0                        0   \n",
       "75%                     0           0                        0   \n",
       "max                   180       29623                     7002   \n",
       "\n",
       "       last_pymnt_amnt  pub_rec_bankruptcies  \n",
       "count            39717                 39020  \n",
       "mean              2678                     0  \n",
       "std               4447                     0  \n",
       "min                  0                     0  \n",
       "25%                218                     0  \n",
       "50%                546                     0  \n",
       "75%               3293                     0  \n",
       "max              36115                     2  \n",
       "\n",
       "[8 rows x 27 columns]"
      ]
     },
     "execution_count": 39,
     "metadata": {},
     "output_type": "execute_result"
    }
   ],
   "source": [
    "LoanDF.describe().astype(int)"
   ]
  },
  {
   "cell_type": "code",
   "execution_count": 40,
   "id": "vG4o-_0Q9kSy",
   "metadata": {
    "colab": {
     "base_uri": "https://localhost:8080/"
    },
    "id": "vG4o-_0Q9kSy",
    "outputId": "37037076-32de-4708-a34a-bd8c2f9bf08c"
   },
   "outputs": [
    {
     "name": "stdout",
     "output_type": "stream",
     "text": [
      "<class 'pandas.core.frame.DataFrame'>\n",
      "RangeIndex: 39717 entries, 0 to 39716\n",
      "Data columns (total 44 columns):\n",
      " #   Column                   Non-Null Count  Dtype  \n",
      "---  ------                   --------------  -----  \n",
      " 0   id                       39717 non-null  int64  \n",
      " 1   member_id                39717 non-null  int64  \n",
      " 2   loan_amnt                39717 non-null  int64  \n",
      " 3   funded_amnt              39717 non-null  int64  \n",
      " 4   funded_amnt_inv          39717 non-null  float64\n",
      " 5   term                     39717 non-null  object \n",
      " 6   int_rate                 39717 non-null  float64\n",
      " 7   installment              39717 non-null  float64\n",
      " 8   grade                    39717 non-null  object \n",
      " 9   sub_grade                39717 non-null  object \n",
      " 10  emp_title                37258 non-null  object \n",
      " 11  emp_length               38642 non-null  object \n",
      " 12  home_ownership           39717 non-null  object \n",
      " 13  annual_inc               39717 non-null  float64\n",
      " 14  verification_status      39717 non-null  object \n",
      " 15  issue_d                  39717 non-null  object \n",
      " 16  loan_status              39717 non-null  object \n",
      " 17  url                      39717 non-null  object \n",
      " 18  purpose                  39717 non-null  object \n",
      " 19  title                    39706 non-null  object \n",
      " 20  zip_code                 39717 non-null  object \n",
      " 21  addr_state               39717 non-null  object \n",
      " 22  dti                      39717 non-null  float64\n",
      " 23  delinq_2yrs              39717 non-null  int64  \n",
      " 24  earliest_cr_line         39717 non-null  object \n",
      " 25  inq_last_6mths           39717 non-null  int64  \n",
      " 26  open_acc                 39717 non-null  int64  \n",
      " 27  pub_rec                  39717 non-null  int64  \n",
      " 28  revol_bal                39717 non-null  int64  \n",
      " 29  revol_util               39667 non-null  float64\n",
      " 30  total_acc                39717 non-null  int64  \n",
      " 31  out_prncp                39717 non-null  float64\n",
      " 32  out_prncp_inv            39717 non-null  float64\n",
      " 33  total_pymnt              39717 non-null  float64\n",
      " 34  total_pymnt_inv          39717 non-null  float64\n",
      " 35  total_rec_prncp          39717 non-null  float64\n",
      " 36  total_rec_int            39717 non-null  float64\n",
      " 37  total_rec_late_fee       39717 non-null  float64\n",
      " 38  recoveries               39717 non-null  float64\n",
      " 39  collection_recovery_fee  39717 non-null  float64\n",
      " 40  last_pymnt_d             39646 non-null  object \n",
      " 41  last_pymnt_amnt          39717 non-null  float64\n",
      " 42  last_credit_pull_d       39715 non-null  object \n",
      " 43  pub_rec_bankruptcies     39020 non-null  float64\n",
      "dtypes: float64(17), int64(10), object(17)\n",
      "memory usage: 13.3+ MB\n"
     ]
    }
   ],
   "source": [
    "LoanDF.info()"
   ]
  },
  {
   "cell_type": "code",
   "execution_count": 66,
   "id": "edeb4506",
   "metadata": {},
   "outputs": [],
   "source": [
    "##deriving columns from issue date month and year\n",
    "LoanDF.issue_d = pd.to_datetime(LoanDF.issue_d,format='%b-%y')\n",
    "LoanDF.year=LoanDF.issue_d.dt.year.astype(int)\n",
    "LoanDF.month=LoanDF.issue_d.dt.month.astype(int)"
   ]
  },
  {
   "cell_type": "markdown",
   "id": "4182f455",
   "metadata": {},
   "source": [
    "## Univariate analysis"
   ]
  },
  {
   "cell_type": "code",
   "execution_count": 42,
   "id": "b4adc1a9",
   "metadata": {},
   "outputs": [
    {
     "data": {
      "image/png": "[encoded data removed]",
      "text/plain": [
       "<Figure size 640x480 with 1 Axes>"
      ]
     },
     "metadata": {},
     "output_type": "display_data"
    },
    {
     "data": {
      "image/png": "[encoded data removed]",
      "text/plain": [
       "<Figure size 640x480 with 1 Axes>"
      ]
     },
     "metadata": {},
     "output_type": "display_data"
    },
    {
     "data": {
      "image/png": "[encoded data removed]",
      "text/plain": [
       "<Figure size 640x480 with 1 Axes>"
      ]
     },
     "metadata": {},
     "output_type": "display_data"
    }
   ],
   "source": [
    "for i in ['home_ownership','verification_status','loan_status']:\n",
    "    plt.hist(LoanDF[i])\n",
    "    plt.title (i)\n",
    "    plt.xlabel('Categories')\n",
    "    plt.ylabel('Count')\n",
    "    plt.show()"
   ]
  },
  {
   "cell_type": "code",
   "execution_count": 43,
   "id": "3493ace2",
   "metadata": {
    "scrolled": true
   },
   "outputs": [
    {
     "data": {
      "image/png": "[encoded data removed]",
      "text/plain": [
       "<Figure size 1000x500 with 1 Axes>"
      ]
     },
     "metadata": {},
     "output_type": "display_data"
    },
    {
     "data": {
      "image/png": "[encoded data removed]",
      "text/plain": [
       "<Figure size 1000x500 with 1 Axes>"
      ]
     },
     "metadata": {},
     "output_type": "display_data"
    },
    {
     "data": {
      "image/png": "[encoded data removed]",
      "text/plain": [
       "<Figure size 1000x500 with 1 Axes>"
      ]
     },
     "metadata": {},
     "output_type": "display_data"
    }
   ],
   "source": [
    "for i in ['term','grade','sub_grade']:\n",
    "    fig = plt.figure(figsize=(10, 5))\n",
    "    plt.hist(LoanDF[i],align='mid',color='orange')\n",
    "    plt.title (i)\n",
    "    plt.xlabel('Categories')\n",
    "    plt.ylabel('Count')\n",
    "    plt.show()"
   ]
  },
  {
   "cell_type": "markdown",
   "id": "762d7758",
   "metadata": {},
   "source": [
    "## BIVARIATE ANALYSIS"
   ]
  },
  {
   "cell_type": "code",
   "execution_count": 82,
   "id": "2eb84d53",
   "metadata": {
    "colab": {
     "base_uri": "https://localhost:8080/",
     "height": 445
    },
    "id": "2eb84d53",
    "outputId": "7c195224-f333-40da-da3d-61016fb1106d",
    "scrolled": false
   },
   "outputs": [
    {
     "data": {
      "image/png": "[encoded data removed]",
      "text/plain": [
       "<Figure size 640x480 with 1 Axes>"
      ]
     },
     "metadata": {},
     "output_type": "display_data"
    }
   ],
   "source": [
    "plt.scatter(LoanDF.delinq_2yrs,LoanDF.annual_inc)\n",
    "plt.title('No. of delinquency in 2 years vs Annual Income\\n\\n')\n",
    "plt.xlabel('No. of delinquency in 2 years')\n",
    "plt.ylabel('Annual Income')\n",
    "plt.show()"
   ]
  },
  {
   "cell_type": "code",
   "execution_count": 75,
   "id": "df0c0720",
   "metadata": {
    "colab": {
     "base_uri": "https://localhost:8080/",
     "height": 430
    },
    "id": "df0c0720",
    "outputId": "e537faf9-604c-4f53-8e24-abefda5adb23",
    "scrolled": true
   },
   "outputs": [
    {
     "data": {
      "image/png": "[encoded data removed]",
      "text/plain": [
       "<Figure size 640x480 with 1 Axes>"
      ]
     },
     "metadata": {},
     "output_type": "display_data"
    }
   ],
   "source": [
    "plt.bar(LoanDF.home_ownership, LoanDF.delinq_2yrs)\n",
    "plt.title('home_ownership vs No. of delinquency in 2 years\\n\\n')\n",
    "plt.xlabel('home_ownership')\n",
    "plt.ylabel('No. of delinquency in 2 years')\n",
    "plt.show()"
   ]
  },
  {
   "cell_type": "code",
   "execution_count": 76,
   "id": "8338d2c4",
   "metadata": {
    "scrolled": true
   },
   "outputs": [
    {
     "data": {
      "image/png": "[encoded data removed]",
      "text/plain": [
       "<Figure size 640x480 with 1 Axes>"
      ]
     },
     "metadata": {},
     "output_type": "display_data"
    }
   ],
   "source": [
    "plt.bar(LoanDF.year, LoanDF.int_rate)\n",
    "plt.title('Loan issue year vs interest rate')\n",
    "plt.xlabel('Loan issue year')\n",
    "plt.ylabel('interest rate')\n",
    "plt.show()"
   ]
  },
  {
   "cell_type": "code",
   "execution_count": 77,
   "id": "a4b77ec1",
   "metadata": {},
   "outputs": [
    {
     "data": {
      "image/png": "[encoded data removed]",
      "text/plain": [
       "<Figure size 640x480 with 1 Axes>"
      ]
     },
     "metadata": {},
     "output_type": "display_data"
    }
   ],
   "source": [
    "plt.bar(LoanDF.grade, LoanDF.int_rate)\n",
    "plt.title('Loan issue year vs interest rate')\n",
    "plt.xlabel('Loan issue year')\n",
    "plt.ylabel('interest rate')\n",
    "plt.show()"
   ]
  },
  {
   "cell_type": "code",
   "execution_count": null,
   "id": "f9af2792",
   "metadata": {},
   "outputs": [],
   "source": [
    "plt.scatter(LoanDF.grade, LoanDF.int_rate)\n",
    "plt.title('Loan issue year vs interest rate')\n",
    "plt.xlabel('Loan issue year')\n",
    "plt.ylabel('interest rate')\n",
    "plt.show()"
   ]
  },
  {
   "cell_type": "code",
   "execution_count": 54,
   "id": "ab3f5a2f",
   "metadata": {},
   "outputs": [
    {
     "data": {
      "text/plain": [
       "Index(['id', 'member_id', 'loan_amnt', 'funded_amnt', 'funded_amnt_inv',\n",
       "       'term', 'int_rate', 'installment', 'grade', 'sub_grade', 'emp_title',\n",
       "       'emp_length', 'home_ownership', 'annual_inc', 'verification_status',\n",
       "       'issue_d', 'loan_status', 'url', 'purpose', 'title', 'zip_code',\n",
       "       'addr_state', 'dti', 'delinq_2yrs', 'earliest_cr_line',\n",
       "       'inq_last_6mths', 'open_acc', 'pub_rec', 'revol_bal', 'revol_util',\n",
       "       'total_acc', 'out_prncp', 'out_prncp_inv', 'total_pymnt',\n",
       "       'total_pymnt_inv', 'total_rec_prncp', 'total_rec_int',\n",
       "       'total_rec_late_fee', 'recoveries', 'collection_recovery_fee',\n",
       "       'last_pymnt_d', 'last_pymnt_amnt', 'last_credit_pull_d',\n",
       "       'pub_rec_bankruptcies'],\n",
       "      dtype='object')"
      ]
     },
     "execution_count": 54,
     "metadata": {},
     "output_type": "execute_result"
    }
   ],
   "source": [
    "LoanDF.columns"
   ]
  },
  {
   "cell_type": "code",
   "execution_count": 56,
   "id": "da6d5e66",
   "metadata": {},
   "outputs": [
    {
     "data": {
      "image/png": "[encoded data removed]",
      "text/plain": [
       "<Figure size 640x480 with 1 Axes>"
      ]
     },
     "metadata": {},
     "output_type": "display_data"
    }
   ],
   "source": [
    "plt.scatter(LoanDF.loan_amnt,LoanDF.annual_inc)\n",
    "plt.title('loan_amnt vs annual_inc')\n",
    "plt.xlabel('loan_amnt')\n",
    "plt.ylabel('annual_inc')\n",
    "plt.show()"
   ]
  },
  {
   "cell_type": "code",
   "execution_count": 61,
   "id": "d5839185",
   "metadata": {},
   "outputs": [
    {
     "data": {
      "image/png": "[encoded data removed]",
      "text/plain": [
       "<Figure size 640x480 with 1 Axes>"
      ]
     },
     "metadata": {},
     "output_type": "display_data"
    }
   ],
   "source": [
    "plt.scatter(LoanDF.loan_amnt,LoanDF.int_rate)\n",
    "#plt.title('loan_amnt vs annual_inc')\n",
    "#plt.xlabel('loan_amnt')\n",
    "#plt.ylabel('annual_inc')\n",
    "plt.show()"
   ]
  },
  {
   "cell_type": "code",
   "execution_count": 62,
   "id": "0ef4bde8",
   "metadata": {},
   "outputs": [
    {
     "data": {
      "image/png": "[encoded data removed]",
      "text/plain": [
       "<Figure size 640x480 with 1 Axes>"
      ]
     },
     "metadata": {},
     "output_type": "display_data"
    }
   ],
   "source": [
    "plt.scatter(LoanDF.loan_amnt,LoanDF.installment)\n",
    "#plt.title('loan_amnt vs annual_inc')\n",
    "#plt.xlabel('loan_amnt')\n",
    "#plt.ylabel('annual_inc')\n",
    "plt.show()"
   ]
  },
  {
   "cell_type": "code",
   "execution_count": 95,
   "id": "71935a22",
   "metadata": {},
   "outputs": [
    {
     "data": {
      "image/png": "[encoded data removed]",
      "text/plain": [
       "<Figure size 640x480 with 1 Axes>"
      ]
     },
     "metadata": {},
     "output_type": "display_data"
    }
   ],
   "source": [
    "plt.scatter(LoanDF.emp_length,LoanDF.int_rate)\n",
    "#plt.title('loan_amnt vs annual_inc')\n",
    "#plt.xlabel('loan_amnt')\n",
    "#plt.ylabel('annual_inc')\n",
    "plt.show()"
   ]
  },
  {
   "cell_type": "code",
   "execution_count": 99,
   "id": "255c8c40",
   "metadata": {},
   "outputs": [
    {
     "data": {
      "image/png": "[encoded data removed]",
      "text/plain": [
       "<Figure size 640x480 with 1 Axes>"
      ]
     },
     "metadata": {},
     "output_type": "display_data"
    }
   ],
   "source": [
    "plt.scatter(LoanDF.revol_util,LoanDF.int_rate)\n",
    "#plt.title('loan_amnt vs annual_inc')\n",
    "#plt.xlabel('loan_amnt')\n",
    "#plt.ylabel('annual_inc')\n",
    "plt.show()"
   ]
  },
  {
   "cell_type": "code",
   "execution_count": null,
   "id": "056f23d4",
   "metadata": {},
   "outputs": [],
   "source": []
  }
 ],
 "metadata": {
  "colab": {
   "provenance": []
  },
  "kernelspec": {
   "display_name": "Python 3 (ipykernel)",
   "language": "python",
   "name": "python3"
  },
  "language_info": {
   "codemirror_mode": {
    "name": "ipython",
    "version": 3
   },
   "file_extension": ".py",
   "mimetype": "text/x-python",
   "name": "python",
   "nbconvert_exporter": "python",
   "pygments_lexer": "ipython3",
   "version": "3.9.13"
  }
 },
 "nbformat": 4,
 "nbformat_minor": 5
}
